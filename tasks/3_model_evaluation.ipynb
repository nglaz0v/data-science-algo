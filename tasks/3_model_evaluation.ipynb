{
 "cells": [
  {
   "cell_type": "markdown",
   "metadata": {},
   "source": [
    "# Оценка модели\n",
    "Строим модель энергопотребления здания по среднему значению. Оцениваем эффективность модели через метрику\n",
    "$$\\LARGE RMSLE = \\sqrt{\\frac{\\sum_{i=1}^{n}(log(p_i+1)-log(a_i+1))^2}{n}},$$\n",
    "где:\n",
    "- $n - число\\; наблюдений;$\n",
    "- $log\\;- натуральный\\; логорифм;$\n",
    "- $p_i\\;- вычисленное\\; значение\\; метрики;$\n",
    "- $a_i\\;- заданное\\; значение\\; метрики.$"
   ]
  },
  {
   "cell_type": "code",
   "execution_count": 1,
   "metadata": {},
   "outputs": [],
   "source": [
    "import pandas as pd\n",
    "import numpy as np\n",
    "from sklearn.model_selection import train_test_split"
   ]
  },
  {
   "cell_type": "markdown",
   "metadata": {},
   "source": [
    "## Загрузка данных. Выкунуть пустые дни по \"meter_reading\" и выделить час в отдельную колонку.\n",
    "**meter_reading** - потребление энергии в кВтч (или эквивалент)"
   ]
  },
  {
   "cell_type": "code",
   "execution_count": 2,
   "metadata": {},
   "outputs": [
    {
     "name": "stdout",
     "output_type": "stream",
     "text": [
      "      building_id  meter           timestamp  meter_reading  hour\n",
      "704             0      0 2016-01-30 08:00:00        43.6839     8\n",
      "725             0      0 2016-01-31 05:00:00        37.5408     5\n",
      "737             0      0 2016-01-31 17:00:00        52.5571    17\n",
      "2366            0      0 2016-04-08 14:00:00        59.3827    14\n",
      "2923            0      0 2016-05-01 19:00:00       448.0000    19\n"
     ]
    }
   ],
   "source": [
    "energy = pd.read_csv(\"../data/train.csv\")\n",
    "energy = energy[energy[\"meter_reading\"]>0]\n",
    "energy[\"timestamp\"] = pd.to_datetime(energy[\"timestamp\"])\n",
    "energy[\"hour\"] = energy[\"timestamp\"].dt.hour\n",
    "print(energy.head())"
   ]
  },
  {
   "cell_type": "markdown",
   "metadata": {},
   "source": [
    "# Разделить данные на обучение и проверку\n",
    "**20%** - на проверку\n",
    "**80%** - на обучение"
   ]
  },
  {
   "cell_type": "code",
   "execution_count": 3,
   "metadata": {},
   "outputs": [
    {
     "name": "stdout",
     "output_type": "stream",
     "text": [
      "building_id      4328\n",
      "meter            4328\n",
      "timestamp        4328\n",
      "meter_reading    4328\n",
      "hour             4328\n",
      "dtype: int64\n"
     ]
    }
   ],
   "source": [
    "energy_train, energy_test = train_test_split(energy, test_size=0.2)\n",
    "print(energy_train.count())"
   ]
  },
  {
   "cell_type": "markdown",
   "metadata": {},
   "source": [
    "## Среднее и медианное значение потребления энергии по часам"
   ]
  },
  {
   "cell_type": "code",
   "execution_count": 4,
   "metadata": {},
   "outputs": [
    {
     "name": "stdout",
     "output_type": "stream",
     "text": [
      "         Среднее   Медиана\n",
      "hour                      \n",
      "0     240.947455  241.6260\n",
      "1     238.392139  240.9440\n",
      "2     237.314296  240.9440\n",
      "3     236.428086  241.6260\n",
      "4     240.749304  245.7215\n",
      "5     239.053290  245.7220\n",
      "6     238.192342  245.7220\n",
      "7     238.979083  246.4040\n",
      "8     242.301786  238.5550\n",
      "9     235.235792  234.1180\n",
      "10    236.683173  238.8960\n",
      "11    233.212067  241.6260\n",
      "12    234.180228  242.3090\n",
      "13    237.338659  243.6740\n",
      "14    235.736723  242.3090\n",
      "15    238.664932  243.3325\n",
      "16    234.970421  242.3090\n",
      "17    235.199551  242.3090\n",
      "18    236.712641  239.5790\n",
      "19    238.461354  237.8725\n",
      "20    233.699342  236.1660\n",
      "21    239.307959  238.2140\n",
      "22    235.822716  236.1660\n",
      "23    240.226683  239.9200\n"
     ]
    }
   ],
   "source": [
    "energy_train_hours = energy_train.groupby(\"hour\")\n",
    "energy_meter_reading = energy_train_hours[\"meter_reading\"]\n",
    "energy_train_avg = pd.DataFrame(\n",
    "    {\n",
    "        \"Среднее\": energy_meter_reading.mean(),\n",
    "        \"Медиана\": energy_meter_reading.median(),\n",
    "    }\n",
    ")\n",
    "print(energy_train_avg)"
   ]
  },
  {
   "cell_type": "markdown",
   "metadata": {},
   "source": [
    "## Проверка модели"
   ]
  },
  {
   "cell_type": "code",
   "execution_count": 8,
   "metadata": {},
   "outputs": [
    {
     "name": "stdout",
     "output_type": "stream",
     "text": [
      "      building_id  meter           timestamp  meter_reading  hour  \\\n",
      "7035            0      0 2016-10-20 03:00:00        230.023     3   \n",
      "4317            0      0 2016-06-28 21:00:00        233.436    21   \n",
      "8537            0      0 2016-12-21 17:00:00        233.436    17   \n",
      "7905            0      0 2016-11-25 09:00:00        208.181     9   \n",
      "5389            0      0 2016-08-12 13:00:00        307.152    13   \n",
      "\n",
      "      meter_reading_mean_q  meter_reading_median_q  meter_reading_zero_q  \n",
      "7035              0.000748                0.002401             29.620994  \n",
      "4317              0.000612                0.000407             29.780842  \n",
      "8537              0.000056                0.001380             29.780842  \n",
      "7905              0.014794                0.013663             28.549785  \n",
      "5389              0.065998                0.053207             32.839698  \n"
     ]
    }
   ],
   "source": [
    "def model(x):\n",
    "    meter_reading_log = np.log(x.meter_reading + 1)\n",
    "    meter_reading_mean = np.log(energy_train_avg[\"Среднее\"][x.hour] + 1)\n",
    "    meter_reading_median = np.log(energy_train_avg[\"Медиана\"][x.hour] + 1)\n",
    "    \n",
    "    x[\"meter_reading_mean_q\"] = (meter_reading_log - meter_reading_mean)**2\n",
    "    x[\"meter_reading_median_q\"] = (meter_reading_log - meter_reading_median)**2\n",
    "    x[\"meter_reading_zero_q\"] = meter_reading_log**2\n",
    "\n",
    "    return x\n",
    "\n",
    "energy_test = energy_test.apply(model, axis=1, result_type=\"expand\")\n",
    "print(energy_test.head())"
   ]
  },
  {
   "cell_type": "code",
   "execution_count": 9,
   "metadata": {},
   "outputs": [
    {
     "name": "stdout",
     "output_type": "stream",
     "text": [
      "Качество медианы: 0.2532163249707196\n",
      "Качество среднего: 0.25144727480521406\n",
      "Качество нуля: 5.459743329271214\n"
     ]
    }
   ],
   "source": [
    "len_ = len(energy_test)\n",
    "energy_test_median_rmsle = np.sqrt(energy_test[\"meter_reading_median_q\"].sum() / len_)\n",
    "energy_test_mean_rmsle = np.sqrt(energy_test[\"meter_reading_mean_q\"].sum() / len_)\n",
    "energy_test_zero_rmsle = np.sqrt(energy_test[\"meter_reading_zero_q\"].sum() / len_)\n",
    "\n",
    "print(f\"Качество медианы: {energy_test_median_rmsle}\")\n",
    "print(f\"Качество среднего: {energy_test_mean_rmsle}\")\n",
    "print(f\"Качество нуля: {energy_test_zero_rmsle}\")"
   ]
  }
 ],
 "metadata": {
  "kernelspec": {
   "display_name": "Python 3 (ipykernel)",
   "language": "python",
   "name": "python3"
  },
  "language_info": {
   "codemirror_mode": {
    "name": "ipython",
    "version": 3
   },
   "file_extension": ".py",
   "mimetype": "text/x-python",
   "name": "python",
   "nbconvert_exporter": "python",
   "pygments_lexer": "ipython3",
   "version": "3.8.10"
  },
  "vscode": {
   "interpreter": {
    "hash": "01c14519b4974e9683bf796b0f04b445c3210d47f2a006233f6cff14adf5564b"
   }
  }
 },
 "nbformat": 4,
 "nbformat_minor": 2
}
