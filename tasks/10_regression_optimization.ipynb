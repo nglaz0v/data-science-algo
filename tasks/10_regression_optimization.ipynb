{
 "cells": [
  {
   "cell_type": "markdown",
   "metadata": {},
   "source": [
    "# Оптимизация регрессии"
   ]
  },
  {
   "cell_type": "markdown",
   "metadata": {},
   "source": [
    "Несколько моделей линейной регрессии, что бы найти более оптимальную для первых 20 зданий"
   ]
  },
  {
   "cell_type": "code",
   "execution_count": 1,
   "metadata": {},
   "outputs": [],
   "source": [
    "import pandas as pd\n",
    "import numpy as np\n",
    "\n",
    "from pandas.tseries.holiday import USFederalHolidayCalendar as calendar\n",
    "from scipy.interpolate import interp1d\n",
    "from sklearn.model_selection import train_test_split\n",
    "from sklearn.linear_model import LinearRegression, Lasso, Ridge, ElasticNet, BayesianRidge\n",
    "\n",
    "from core.reduce_mem_usage import reduce_mem_usage"
   ]
  },
  {
   "cell_type": "markdown",
   "metadata": {},
   "source": [
    "## Загрузка данных"
   ]
  },
  {
   "cell_type": "code",
   "execution_count": 2,
   "metadata": {},
   "outputs": [],
   "source": [
    "buildings = pd.read_csv(\"../data/buildings.csv\")\n",
    "weather = pd.read_csv(\"../data/weather.csv\")\n",
    "energy = pd.read_csv(\"../data/train.0.zip\")"
   ]
  },
  {
   "cell_type": "markdown",
   "metadata": {},
   "source": [
    "## Взять 20 зданий, объединить, оптимизировать"
   ]
  },
  {
   "cell_type": "code",
   "execution_count": 3,
   "metadata": {},
   "outputs": [
    {
     "name": "stdout",
     "output_type": "stream",
     "text": [
      "Потребление памяти меньше на - 10.39 Мб (минус 70.5%)\n",
      "<class 'pandas.core.frame.DataFrame'>\n",
      "RangeIndex: 175680 entries, 0 to 175679\n",
      "Data columns (total 11 columns):\n",
      " #   Column              Non-Null Count   Dtype         \n",
      "---  ------              --------------   -----         \n",
      " 0   timestamp           175680 non-null  datetime64[ns]\n",
      " 1   building_id         175680 non-null  int8          \n",
      " 2   meter_reading       175680 non-null  float16       \n",
      " 3   primary_use         175680 non-null  category      \n",
      " 4   air_temperature     175620 non-null  float16       \n",
      " 5   cloud_coverage      99080 non-null   float16       \n",
      " 6   dew_temperature     175620 non-null  float16       \n",
      " 7   precip_depth_1_hr   175660 non-null  float16       \n",
      " 8   sea_level_pressure  173980 non-null  float16       \n",
      " 9   wind_direction      170680 non-null  float16       \n",
      " 10  wind_speed          175680 non-null  float16       \n",
      "dtypes: category(1), datetime64[ns](1), float16(8), int8(1)\n",
      "memory usage: 4.4 MB\n",
      "None\n"
     ]
    }
   ],
   "source": [
    "energy = energy[energy[\"building_id\"] < 20]\n",
    "energy = pd.merge(\n",
    "    left=energy,\n",
    "    right=buildings,\n",
    "    how=\"left\",\n",
    "    left_on=\"building_id\",\n",
    "    right_on=\"building_id\",\n",
    ")\n",
    "energy = energy.set_index([\"timestamp\", \"site_id\"])\n",
    "weather =weather.set_index([\"timestamp\", \"site_id\"])\n",
    "energy = pd.merge(\n",
    "    left=energy,\n",
    "    right=weather,\n",
    "    how=\"left\",\n",
    "    left_index=True,\n",
    "    right_index=True,\n",
    ")\n",
    "energy.reset_index(inplace=True)\n",
    "energy = energy.drop(\n",
    "    columns=[\n",
    "        \"meter\",\n",
    "        \"site_id\",\n",
    "        \"year_built\",\n",
    "        \"square_feet\",\n",
    "        \"floor_count\",\n",
    "    ],\n",
    "    axis=1\n",
    ")\n",
    "\n",
    "del buildings\n",
    "del weather\n",
    "\n",
    "energy = reduce_mem_usage(energy)\n",
    "print(energy.info())"
   ]
  },
  {
   "cell_type": "markdown",
   "metadata": {},
   "source": [
    "## Обогащение данных: час, дни недели, праздники"
   ]
  },
  {
   "cell_type": "code",
   "execution_count": 4,
   "metadata": {},
   "outputs": [],
   "source": [
    "energy[\"hour\"] = energy[\"timestamp\"].dt.hour.astype(\"int8\")\n",
    "energy[\"weekday\"] = energy[\"timestamp\"].dt.weekday.astype(\"int8\")\n",
    "\n",
    "for weekday in range(0, 7):\n",
    "    energy[f\"is_wday {str(weekday)}\"] = energy[\"weekday\"].isin([weekday]).astype(\"int8\")\n",
    "\n",
    "energy[\"date\"] = pd.to_datetime(energy[\"timestamp\"].dt.date)\n",
    "dates_range = pd.date_range(start=\"2015-12-31\", end=\"2017-01-01\")\n",
    "us_holidays = calendar().holidays(start=dates_range.min(), end=dates_range.max())\n",
    "energy[\"is_holiday\"] = energy[\"date\"].isin(us_holidays).astype(\"int8\")"
   ]
  },
  {
   "cell_type": "markdown",
   "metadata": {},
   "source": [
    "## Логарифм"
   ]
  },
  {
   "cell_type": "code",
   "execution_count": 5,
   "metadata": {},
   "outputs": [],
   "source": [
    "energy[\"meter_reading_log\"] = np.log(energy[\"meter_reading\"] + 1)"
   ]
  },
  {
   "cell_type": "markdown",
   "metadata": {},
   "source": [
    "## Разделение данных"
   ]
  },
  {
   "cell_type": "code",
   "execution_count": 6,
   "metadata": {},
   "outputs": [
    {
     "name": "stdout",
     "output_type": "stream",
     "text": [
      "<class 'pandas.core.frame.DataFrame'>\n",
      "Int64Index: 86858 entries, 134711 to 105045\n",
      "Data columns (total 23 columns):\n",
      " #   Column              Non-Null Count  Dtype         \n",
      "---  ------              --------------  -----         \n",
      " 0   timestamp           86858 non-null  datetime64[ns]\n",
      " 1   building_id         86858 non-null  int8          \n",
      " 2   meter_reading       86858 non-null  float16       \n",
      " 3   primary_use         86858 non-null  category      \n",
      " 4   air_temperature     86858 non-null  float16       \n",
      " 5   cloud_coverage      50534 non-null  float16       \n",
      " 6   dew_temperature     86858 non-null  float16       \n",
      " 7   precip_depth_1_hr   86858 non-null  float16       \n",
      " 8   sea_level_pressure  86410 non-null  float16       \n",
      " 9   wind_direction      84002 non-null  float16       \n",
      " 10  wind_speed          86858 non-null  float16       \n",
      " 11  hour                86858 non-null  int8          \n",
      " 12  weekday             86858 non-null  int8          \n",
      " 13  is_wday 0           86858 non-null  int8          \n",
      " 14  is_wday 1           86858 non-null  int8          \n",
      " 15  is_wday 2           86858 non-null  int8          \n",
      " 16  is_wday 3           86858 non-null  int8          \n",
      " 17  is_wday 4           86858 non-null  int8          \n",
      " 18  is_wday 5           86858 non-null  int8          \n",
      " 19  is_wday 6           86858 non-null  int8          \n",
      " 20  date                86858 non-null  datetime64[ns]\n",
      " 21  is_holiday          86858 non-null  int8          \n",
      " 22  meter_reading_log   86858 non-null  float16       \n",
      "dtypes: category(1), datetime64[ns](2), float16(9), int8(11)\n",
      "memory usage: 4.5 MB\n",
      "None\n"
     ]
    }
   ],
   "source": [
    "energy_train, energy_test = train_test_split(\n",
    "    energy[energy[\"meter_reading\"] > 0],\n",
    "    test_size=0.2\n",
    ")\n",
    "print(energy_train.info())"
   ]
  },
  {
   "cell_type": "code",
   "execution_count": 7,
   "metadata": {},
   "outputs": [
    {
     "data": {
      "text/html": [
       "<div>\n",
       "<style scoped>\n",
       "    .dataframe tbody tr th:only-of-type {\n",
       "        vertical-align: middle;\n",
       "    }\n",
       "\n",
       "    .dataframe tbody tr th {\n",
       "        vertical-align: top;\n",
       "    }\n",
       "\n",
       "    .dataframe thead th {\n",
       "        text-align: right;\n",
       "    }\n",
       "</style>\n",
       "<table border=\"1\" class=\"dataframe\">\n",
       "  <thead>\n",
       "    <tr style=\"text-align: right;\">\n",
       "      <th></th>\n",
       "      <th>timestamp</th>\n",
       "      <th>building_id</th>\n",
       "      <th>meter_reading</th>\n",
       "      <th>primary_use</th>\n",
       "      <th>air_temperature</th>\n",
       "      <th>cloud_coverage</th>\n",
       "      <th>dew_temperature</th>\n",
       "      <th>precip_depth_1_hr</th>\n",
       "      <th>sea_level_pressure</th>\n",
       "      <th>wind_direction</th>\n",
       "      <th>...</th>\n",
       "      <th>is_wday 0</th>\n",
       "      <th>is_wday 1</th>\n",
       "      <th>is_wday 2</th>\n",
       "      <th>is_wday 3</th>\n",
       "      <th>is_wday 4</th>\n",
       "      <th>is_wday 5</th>\n",
       "      <th>is_wday 6</th>\n",
       "      <th>date</th>\n",
       "      <th>is_holiday</th>\n",
       "      <th>meter_reading_log</th>\n",
       "    </tr>\n",
       "  </thead>\n",
       "  <tbody>\n",
       "    <tr>\n",
       "      <th>134711</th>\n",
       "      <td>2016-10-07 15:00:00</td>\n",
       "      <td>11</td>\n",
       "      <td>421.750</td>\n",
       "      <td>Education</td>\n",
       "      <td>25.0</td>\n",
       "      <td>NaN</td>\n",
       "      <td>22.203125</td>\n",
       "      <td>3.0</td>\n",
       "      <td>994.0</td>\n",
       "      <td>270.0</td>\n",
       "      <td>...</td>\n",
       "      <td>0</td>\n",
       "      <td>0</td>\n",
       "      <td>0</td>\n",
       "      <td>0</td>\n",
       "      <td>1</td>\n",
       "      <td>0</td>\n",
       "      <td>0</td>\n",
       "      <td>2016-10-07</td>\n",
       "      <td>0</td>\n",
       "      <td>6.046875</td>\n",
       "    </tr>\n",
       "    <tr>\n",
       "      <th>123515</th>\n",
       "      <td>2016-09-14 07:00:00</td>\n",
       "      <td>15</td>\n",
       "      <td>271.000</td>\n",
       "      <td>Office</td>\n",
       "      <td>25.0</td>\n",
       "      <td>NaN</td>\n",
       "      <td>23.906250</td>\n",
       "      <td>0.0</td>\n",
       "      <td>1016.0</td>\n",
       "      <td>180.0</td>\n",
       "      <td>...</td>\n",
       "      <td>0</td>\n",
       "      <td>0</td>\n",
       "      <td>1</td>\n",
       "      <td>0</td>\n",
       "      <td>0</td>\n",
       "      <td>0</td>\n",
       "      <td>0</td>\n",
       "      <td>2016-09-14</td>\n",
       "      <td>0</td>\n",
       "      <td>5.605469</td>\n",
       "    </tr>\n",
       "    <tr>\n",
       "      <th>113609</th>\n",
       "      <td>2016-08-24 16:00:00</td>\n",
       "      <td>9</td>\n",
       "      <td>155.250</td>\n",
       "      <td>Office</td>\n",
       "      <td>26.0</td>\n",
       "      <td>NaN</td>\n",
       "      <td>24.000000</td>\n",
       "      <td>112.0</td>\n",
       "      <td>1021.0</td>\n",
       "      <td>50.0</td>\n",
       "      <td>...</td>\n",
       "      <td>0</td>\n",
       "      <td>0</td>\n",
       "      <td>1</td>\n",
       "      <td>0</td>\n",
       "      <td>0</td>\n",
       "      <td>0</td>\n",
       "      <td>0</td>\n",
       "      <td>2016-08-24</td>\n",
       "      <td>0</td>\n",
       "      <td>5.050781</td>\n",
       "    </tr>\n",
       "    <tr>\n",
       "      <th>73749</th>\n",
       "      <td>2016-06-02 15:00:00</td>\n",
       "      <td>9</td>\n",
       "      <td>138.375</td>\n",
       "      <td>Office</td>\n",
       "      <td>30.0</td>\n",
       "      <td>4.0</td>\n",
       "      <td>21.703125</td>\n",
       "      <td>0.0</td>\n",
       "      <td>1018.5</td>\n",
       "      <td>NaN</td>\n",
       "      <td>...</td>\n",
       "      <td>0</td>\n",
       "      <td>0</td>\n",
       "      <td>0</td>\n",
       "      <td>1</td>\n",
       "      <td>0</td>\n",
       "      <td>0</td>\n",
       "      <td>0</td>\n",
       "      <td>2016-06-02</td>\n",
       "      <td>0</td>\n",
       "      <td>4.937500</td>\n",
       "    </tr>\n",
       "    <tr>\n",
       "      <th>162167</th>\n",
       "      <td>2016-12-03 20:00:00</td>\n",
       "      <td>7</td>\n",
       "      <td>571.500</td>\n",
       "      <td>Education</td>\n",
       "      <td>25.0</td>\n",
       "      <td>NaN</td>\n",
       "      <td>13.296875</td>\n",
       "      <td>0.0</td>\n",
       "      <td>1018.5</td>\n",
       "      <td>60.0</td>\n",
       "      <td>...</td>\n",
       "      <td>0</td>\n",
       "      <td>0</td>\n",
       "      <td>0</td>\n",
       "      <td>0</td>\n",
       "      <td>0</td>\n",
       "      <td>1</td>\n",
       "      <td>0</td>\n",
       "      <td>2016-12-03</td>\n",
       "      <td>0</td>\n",
       "      <td>6.351562</td>\n",
       "    </tr>\n",
       "  </tbody>\n",
       "</table>\n",
       "<p>5 rows × 23 columns</p>\n",
       "</div>"
      ],
      "text/plain": [
       "                 timestamp  building_id  meter_reading primary_use  \\\n",
       "134711 2016-10-07 15:00:00           11        421.750   Education   \n",
       "123515 2016-09-14 07:00:00           15        271.000      Office   \n",
       "113609 2016-08-24 16:00:00            9        155.250      Office   \n",
       "73749  2016-06-02 15:00:00            9        138.375      Office   \n",
       "162167 2016-12-03 20:00:00            7        571.500   Education   \n",
       "\n",
       "        air_temperature  cloud_coverage  dew_temperature  precip_depth_1_hr  \\\n",
       "134711             25.0             NaN        22.203125                3.0   \n",
       "123515             25.0             NaN        23.906250                0.0   \n",
       "113609             26.0             NaN        24.000000              112.0   \n",
       "73749              30.0             4.0        21.703125                0.0   \n",
       "162167             25.0             NaN        13.296875                0.0   \n",
       "\n",
       "        sea_level_pressure  wind_direction  ...  is_wday 0  is_wday 1  \\\n",
       "134711               994.0           270.0  ...          0          0   \n",
       "123515              1016.0           180.0  ...          0          0   \n",
       "113609              1021.0            50.0  ...          0          0   \n",
       "73749               1018.5             NaN  ...          0          0   \n",
       "162167              1018.5            60.0  ...          0          0   \n",
       "\n",
       "        is_wday 2  is_wday 3  is_wday 4  is_wday 5  is_wday 6       date  \\\n",
       "134711          0          0          1          0          0 2016-10-07   \n",
       "123515          1          0          0          0          0 2016-09-14   \n",
       "113609          1          0          0          0          0 2016-08-24   \n",
       "73749           0          1          0          0          0 2016-06-02   \n",
       "162167          0          0          0          1          0 2016-12-03   \n",
       "\n",
       "        is_holiday  meter_reading_log  \n",
       "134711           0           6.046875  \n",
       "123515           0           5.605469  \n",
       "113609           0           5.050781  \n",
       "73749            0           4.937500  \n",
       "162167           0           6.351562  \n",
       "\n",
       "[5 rows x 23 columns]"
      ]
     },
     "execution_count": 7,
     "metadata": {},
     "output_type": "execute_result"
    }
   ],
   "source": [
    "energy_train.head()"
   ]
  },
  {
   "cell_type": "markdown",
   "metadata": {},
   "source": [
    "## Линейная регрессия: по часам"
   ]
  },
  {
   "cell_type": "code",
   "execution_count": 8,
   "metadata": {},
   "outputs": [],
   "source": [
    "from sklearn.metrics import r2_score"
   ]
  },
  {
   "cell_type": "code",
   "execution_count": 9,
   "metadata": {},
   "outputs": [],
   "source": [
    "hours = range(0, 24)\n",
    "buildings = range(0, energy_train[\"building_id\"].max() + 1)\n",
    "lr_columns = [\n",
    "    \"meter_reading_log\",\n",
    "    \"hour\",\n",
    "    \"building_id\",\n",
    "    \"is_holiday\",\n",
    "]\n",
    "\n",
    "for wday in range(0, 7):\n",
    "    lr_columns.append(f\"is_wday {str(wday)}\")\n",
    "\n",
    "lr_models = {\n",
    "    \"LinearRegression\": LinearRegression,\n",
    "    \"Lasso-0.01\": Lasso,\n",
    "    \"Lasso-0.1\": Lasso,\n",
    "    \"Lasso-1.0\": Lasso,\n",
    "    \"Ridge-0.01\": Ridge,\n",
    "    \"Ridge-0.1\": Ridge,\n",
    "    \"Ridge-1.0\": Ridge,\n",
    "    \"ElasticNet-1-1\": ElasticNet,\n",
    "    \"ElasticNet-0.1-1\": ElasticNet,\n",
    "    \"ElasticNet-1-0.1\": ElasticNet,\n",
    "    \"ElasticNet-0.1-0.1\": ElasticNet,\n",
    "    \"BayesianRidge\": BayesianRidge,\n",
    "}\n",
    "\n",
    "energy_train_lr = pd.DataFrame(energy_train, columns=lr_columns)"
   ]
  },
  {
   "cell_type": "markdown",
   "metadata": {},
   "source": [
    "Линейная регрессия:\n",
    "$$\\LARGE z = Ax + By + C, \\lvert z + z_0 \\rvert^2 \\to min$$\n",
    "Лассо + LARS Лассо:\n",
    "$$\\LARGE \\dfrac{1}{2n} \\lvert z - z_0 \\rvert^2 + a(\\lvert A \\rvert + \\lvert B \\rvert) \\to min$$\n",
    "Гребная регрессия:\n",
    "$$\\LARGE \\lvert z - z_0 \\rvert^2 + a(A^2 + B^2) \\to min$$\n",
    "ElasticNet: Лассо + Гребневая регрессия:\n",
    "$$\\LARGE \\dfrac{1}{2n} \\lvert z - z_0 \\rvert^2 + ap \\lvert A^2 + B^2\\rvert + (a - p)(\\lvert A \\rvert + \\lvert B \\rvert)/2 \\to min$$"
   ]
  },
  {
   "cell_type": "code",
   "execution_count": 10,
   "metadata": {},
   "outputs": [
    {
     "name": "stdout",
     "output_type": "stream",
     "text": [
      "{'LinearRegression': 0.13219319608619842, 'Lasso-0.01': -0.19903255435074385, 'Lasso-0.1': -31.955333115521974, 'Lasso-1.0': -2512.909424694678, 'Ridge-0.01': 0.13176737415979103, 'Ridge-0.1': 0.08997546053081722, 'Ridge-1.0': -3.761224218669234, 'ElasticNet-1-1': -2512.909424694678, 'ElasticNet-0.1-1': -31.955333115521974, 'ElasticNet-1-0.1': -2090.178247550908, 'ElasticNet-0.1-0.1': -438.5904600336049, 'BayesianRidge': 0.13218336384464255}\n"
     ]
    }
   ],
   "source": [
    "lr_models_scores = {}\n",
    "\n",
    "for i in lr_models:\n",
    "    lr_model = lr_models[i]\n",
    "    energy_lr_scores = [[] for _ in range(len(buildings))]\n",
    "\n",
    "    for building in buildings:\n",
    "        energy_lr_scores[building] = [0 for _ in range(len(hours))]\n",
    "        energy_train_b = energy_train_lr[energy_train_lr[\"building_id\"] == building]\n",
    "        \n",
    "        for hour in hours:\n",
    "            energy_train_bh = energy_train_b[energy_train_b[\"hour\"] == hour]\n",
    "            y = energy_train_bh[\"meter_reading_log\"]\n",
    "            x = energy_train_bh.drop(\n",
    "                labels=[\n",
    "                    \"meter_reading_log\",\n",
    "                    \"hour\",\n",
    "                    \"building_id\",\n",
    "                ],\n",
    "                axis=1\n",
    "            )\n",
    "            if i in [\"Ridge-0.1\", \"Lasso-0.1\"]:\n",
    "                model = lr_model(alpha=.1, fit_intercept=False).fit(x, y)\n",
    "            elif i in [\"Ridge-0.01\", \"Lasso-0.01\"]:\n",
    "                model = lr_model(alpha=.01, fit_intercept=False).fit(x, y)\n",
    "            elif i == \"ElasticNet-1-1\":\n",
    "                model = lr_model(alpha=1, l1_ratio=1, fit_intercept=False).fit(x, y)\n",
    "            elif i == \"ElasticNet-1-0.1\":\n",
    "                model = lr_model(alpha=1, l1_ratio=.1, fit_intercept=False).fit(x, y)\n",
    "            elif i == \"ElasticNet-0.1-1\":\n",
    "                model = lr_model(alpha=.1, l1_ratio=1, fit_intercept=False).fit(x, y)\n",
    "            elif i == \"ElasticNet-0.1-0.1\":\n",
    "                model = lr_model(alpha=.1, l1_ratio=.05, fit_intercept=False).fit(x, y)\n",
    "            else:\n",
    "                model = lr_model(fit_intercept=False).fit(x, y)\n",
    "            \n",
    "            energy_lr_scores[building][hour] = r2_score(y, model.predict(x))\n",
    "        \n",
    "    lr_models_scores[i] = np.mean(energy_lr_scores)\n",
    "\n",
    "print(lr_models_scores)"
   ]
  },
  {
   "cell_type": "markdown",
   "metadata": {},
   "source": [
    "## Проверим модели: LinearRegression, Lasso, BayesianRidge"
   ]
  },
  {
   "cell_type": "code",
   "execution_count": 12,
   "metadata": {},
   "outputs": [
    {
     "name": "stdout",
     "output_type": "stream",
     "text": [
      "[-0.03284475  5.42302179  5.47375     5.50878906  5.43307411  5.4615625\n",
      "  5.51256793  5.41983696  0.        ]\n",
      "[0.         5.35143029 5.40455    5.43670573 5.36778356 5.3923625\n",
      " 5.43735054 5.34461957 0.        ]\n",
      "[-0.03226968  5.42244496  5.47323735  5.50825163  5.43258166  5.46105099\n",
      "  5.51200676  5.41928522  0.        ]\n"
     ]
    }
   ],
   "source": [
    "energy_lr = [[] for _ in range(len(buildings))]\n",
    "energy_lasso = [[] for _ in range(len(buildings))]\n",
    "energy_br = [[] for _ in range(len(buildings))]\n",
    "\n",
    "for building in buildings:\n",
    "    energy_train_b = energy_train_lr[energy_train_lr[\"building_id\"] == building]\n",
    "    energy_lr[building] = [[] for _ in range(len(hours))]\n",
    "    energy_lasso[building] = [[] for _ in range(len(hours))]\n",
    "    energy_br[building] = [[] for _ in range(len(hours))]\n",
    "\n",
    "    for hour in hours:\n",
    "        energy_train_bh = pd.DataFrame(energy_train_b[energy_train_b[\"hour\"] == hour])\n",
    "        y = energy_train_bh[\"meter_reading_log\"]\n",
    "        if len(y) > 0:\n",
    "            x = energy_train_bh.drop(\n",
    "                labels=[\n",
    "                    \"meter_reading_log\",\n",
    "                    \"hour\",\n",
    "                    \"building_id\",\n",
    "                ],\n",
    "                axis=1\n",
    "            )\n",
    "        model = LinearRegression(fit_intercept=False).fit(x, y)\n",
    "        energy_lr[building][hour] = np.append([model.coef_], model.intercept_)\n",
    "        \n",
    "        model = Lasso(fit_intercept=False, alpha=.01).fit(x, y)\n",
    "        energy_lasso[building][hour] = np.append([model.coef_], model.intercept_)\n",
    "        \n",
    "        model = BayesianRidge(fit_intercept=False).fit(x, y)\n",
    "        energy_br[building][hour] = np.append([model.coef_], model.intercept_)\n",
    "\n",
    "print(energy_lr[0][0])\n",
    "print(energy_lasso[0][0])\n",
    "print(energy_br[0][0])\n",
    "        "
   ]
  }
 ],
 "metadata": {
  "kernelspec": {
   "display_name": "Python 3 (ipykernel)",
   "language": "python",
   "name": "python3"
  },
  "language_info": {
   "codemirror_mode": {
    "name": "ipython",
    "version": 3
   },
   "file_extension": ".py",
   "mimetype": "text/x-python",
   "name": "python",
   "nbconvert_exporter": "python",
   "pygments_lexer": "ipython3",
   "version": "3.8.10"
  },
  "vscode": {
   "interpreter": {
    "hash": "01c14519b4974e9683bf796b0f04b445c3210d47f2a006233f6cff14adf5564b"
   }
  }
 },
 "nbformat": 4,
 "nbformat_minor": 2
}
