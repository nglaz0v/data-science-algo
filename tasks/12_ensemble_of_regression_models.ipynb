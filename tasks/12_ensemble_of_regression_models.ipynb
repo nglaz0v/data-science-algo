{
 "cells": [
  {
   "cell_type": "markdown",
   "metadata": {},
   "source": [
    "# Ансамбль регрессионных моделей"
   ]
  },
  {
   "cell_type": "markdown",
   "metadata": {},
   "source": [
    "1. Загрузить подготовленные данные\n",
    "2. Собрать два набора моделей: по дате (праздники, дни недели и т.д.) и по погоде\n",
    "3. Провести 10 разбиений данных на обучающие/проверочные и выявить оптимальные веса моделей для каждого часа для каждого здания.\n",
    "4. Вычислить оптимизированную метрику качества для ансамблей моделей."
   ]
  },
  {
   "cell_type": "markdown",
   "metadata": {},
   "source": [
    "## Подключение библиотек"
   ]
  },
  {
   "cell_type": "code",
   "execution_count": 1,
   "metadata": {},
   "outputs": [],
   "source": [
    "import pandas as pd\n",
    "import numpy as np\n",
    "\n",
    "from sklearn.model_selection import train_test_split\n",
    "from sklearn.linear_model import LinearRegression"
   ]
  },
  {
   "cell_type": "markdown",
   "metadata": {},
   "source": [
    "## Загрузка данных 20 зданий из HDF5"
   ]
  },
  {
   "cell_type": "code",
   "execution_count": 2,
   "metadata": {},
   "outputs": [
    {
     "name": "stdout",
     "output_type": "stream",
     "text": [
      "<class 'pandas.core.frame.DataFrame'>\n",
      "Int64Index: 175680 entries, 0 to 175679\n",
      "Data columns (total 92 columns):\n",
      " #   Column                  Non-Null Count   Dtype         \n",
      "---  ------                  --------------   -----         \n",
      " 0   timestamp               175680 non-null  datetime64[ns]\n",
      " 1   building_id             175680 non-null  int8          \n",
      " 2   meter_reading           175680 non-null  float16       \n",
      " 3   primary_use             175680 non-null  category      \n",
      " 4   air_temperature         175680 non-null  float16       \n",
      " 5   cloud_coverage          175680 non-null  float16       \n",
      " 6   dew_temperature         175680 non-null  float16       \n",
      " 7   precip_depth_1_hr       175680 non-null  float16       \n",
      " 8   sea_level_pressure      175680 non-null  float16       \n",
      " 9   wind_direction          175680 non-null  float16       \n",
      " 10  wind_speed              175680 non-null  float16       \n",
      " 11  air_temperature_diff_1  175680 non-null  float16       \n",
      " 12  air_temperature_diff_2  175680 non-null  float16       \n",
      " 13  hour                    175680 non-null  int8          \n",
      " 14  weekday                 175680 non-null  int8          \n",
      " 15  week                    175680 non-null  int8          \n",
      " 16  month                   175680 non-null  int8          \n",
      " 17  date                    175680 non-null  category      \n",
      " 18  is_holiday              175680 non-null  int8          \n",
      " 19  is_wday 0               175680 non-null  int8          \n",
      " 20  is_wday 1               175680 non-null  int8          \n",
      " 21  is_wday 2               175680 non-null  int8          \n",
      " 22  is_wday 3               175680 non-null  int8          \n",
      " 23  is_wday 4               175680 non-null  int8          \n",
      " 24  is_wday 5               175680 non-null  int8          \n",
      " 25  is_wday 6               175680 non-null  int8          \n",
      " 26  is_w 1                  175680 non-null  int8          \n",
      " 27  is_w 2                  175680 non-null  int8          \n",
      " 28  is_w 3                  175680 non-null  int8          \n",
      " 29  is_w 4                  175680 non-null  int8          \n",
      " 30  is_w 5                  175680 non-null  int8          \n",
      " 31  is_w 6                  175680 non-null  int8          \n",
      " 32  is_w 7                  175680 non-null  int8          \n",
      " 33  is_w 8                  175680 non-null  int8          \n",
      " 34  is_w 9                  175680 non-null  int8          \n",
      " 35  is_w 10                 175680 non-null  int8          \n",
      " 36  is_w 11                 175680 non-null  int8          \n",
      " 37  is_w 12                 175680 non-null  int8          \n",
      " 38  is_w 13                 175680 non-null  int8          \n",
      " 39  is_w 14                 175680 non-null  int8          \n",
      " 40  is_w 15                 175680 non-null  int8          \n",
      " 41  is_w 16                 175680 non-null  int8          \n",
      " 42  is_w 17                 175680 non-null  int8          \n",
      " 43  is_w 18                 175680 non-null  int8          \n",
      " 44  is_w 19                 175680 non-null  int8          \n",
      " 45  is_w 20                 175680 non-null  int8          \n",
      " 46  is_w 21                 175680 non-null  int8          \n",
      " 47  is_w 22                 175680 non-null  int8          \n",
      " 48  is_w 23                 175680 non-null  int8          \n",
      " 49  is_w 24                 175680 non-null  int8          \n",
      " 50  is_w 25                 175680 non-null  int8          \n",
      " 51  is_w 26                 175680 non-null  int8          \n",
      " 52  is_w 27                 175680 non-null  int8          \n",
      " 53  is_w 28                 175680 non-null  int8          \n",
      " 54  is_w 29                 175680 non-null  int8          \n",
      " 55  is_w 30                 175680 non-null  int8          \n",
      " 56  is_w 31                 175680 non-null  int8          \n",
      " 57  is_w 32                 175680 non-null  int8          \n",
      " 58  is_w 33                 175680 non-null  int8          \n",
      " 59  is_w 34                 175680 non-null  int8          \n",
      " 60  is_w 35                 175680 non-null  int8          \n",
      " 61  is_w 36                 175680 non-null  int8          \n",
      " 62  is_w 37                 175680 non-null  int8          \n",
      " 63  is_w 38                 175680 non-null  int8          \n",
      " 64  is_w 39                 175680 non-null  int8          \n",
      " 65  is_w 40                 175680 non-null  int8          \n",
      " 66  is_w 41                 175680 non-null  int8          \n",
      " 67  is_w 42                 175680 non-null  int8          \n",
      " 68  is_w 43                 175680 non-null  int8          \n",
      " 69  is_w 44                 175680 non-null  int8          \n",
      " 70  is_w 45                 175680 non-null  int8          \n",
      " 71  is_w 46                 175680 non-null  int8          \n",
      " 72  is_w 47                 175680 non-null  int8          \n",
      " 73  is_w 48                 175680 non-null  int8          \n",
      " 74  is_w 49                 175680 non-null  int8          \n",
      " 75  is_w 50                 175680 non-null  int8          \n",
      " 76  is_w 51                 175680 non-null  int8          \n",
      " 77  is_w 52                 175680 non-null  int8          \n",
      " 78  is_w 53                 175680 non-null  int8          \n",
      " 79  is_m 1                  175680 non-null  int8          \n",
      " 80  is_m 2                  175680 non-null  int8          \n",
      " 81  is_m 3                  175680 non-null  int8          \n",
      " 82  is_m 4                  175680 non-null  int8          \n",
      " 83  is_m 5                  175680 non-null  int8          \n",
      " 84  is_m 6                  175680 non-null  int8          \n",
      " 85  is_m 7                  175680 non-null  int8          \n",
      " 86  is_m 8                  175680 non-null  int8          \n",
      " 87  is_m 9                  175680 non-null  int8          \n",
      " 88  is_m 10                 175680 non-null  int8          \n",
      " 89  is_m 11                 175680 non-null  int8          \n",
      " 90  is_m 12                 175680 non-null  int8          \n",
      " 91  meter_reading_log       175680 non-null  float16       \n",
      "dtypes: category(2), datetime64[ns](1), float16(11), int8(78)\n",
      "memory usage: 19.9 MB\n",
      "None\n"
     ]
    }
   ],
   "source": [
    "energy = pd.read_hdf(\"../data/out/energy.0-20.h5\", \"energy\")\n",
    "print(energy.info())"
   ]
  },
  {
   "cell_type": "markdown",
   "metadata": {},
   "source": [
    "## Набор параметров для каждой модели"
   ]
  },
  {
   "cell_type": "code",
   "execution_count": 3,
   "metadata": {},
   "outputs": [],
   "source": [
    "lr_weather_columns = [\n",
    "    \"meter_reading_log\",\n",
    "    \"hour\",\n",
    "    \"building_id\",\n",
    "    \"air_temperature\",\n",
    "    \"dew_temperature\",\n",
    "    \"sea_level_pressure\",\n",
    "    \"wind_speed\",\n",
    "    \"air_temperature_diff_1\",\n",
    "    \"air_temperature_diff_2\",\n",
    "    \"cloud_coverage\",\n",
    "]\n",
    "lr_days_columns = [\n",
    "    \"meter_reading_log\",\n",
    "    \"hour\",\n",
    "    \"building_id\",\n",
    "    \"is_holiday\",\n",
    "]\n",
    "\n",
    "for wday in range(0, 7):\n",
    "    lr_days_columns.append(f\"is_wday {str(wday)}\")\n",
    "for week in range(1, 54):\n",
    "    lr_days_columns.append(f\"is_w {str(week)}\")\n",
    "for month in range(1, 13):\n",
    "    lr_days_columns.append(f\"is_m {str(month)}\")\n",
    "\n",
    "hours = range(0, 24)\n",
    "buildings = range(0, energy[\"building_id\"].max() + 1)"
   ]
  },
  {
   "cell_type": "markdown",
   "metadata": {},
   "source": [
    "## Функция для вычисления качества моделей"
   ]
  },
  {
   "cell_type": "code",
   "execution_count": 4,
   "metadata": {},
   "outputs": [],
   "source": [
    "def calculate_model(x, df_lr, lr_columns):\n",
    "    lr = -1\n",
    "    model = df_lr[x.building_id][x.hour]\n",
    "    if len(model) > 0:\n",
    "        lr = np.sum([x[col] * model[i] for i, col in enumerate(lr_columns[3:])])\n",
    "        lr += model[len(lr_columns) - 3]\n",
    "        lr = np.exp(lr)\n",
    "    if lr < 0:\n",
    "        lr = 0\n",
    "    \n",
    "    x[\"meter_reading_lr_q\"] = (np.log(x.meter_reading + 1) - np.log(1 + lr))**2\n",
    "\n",
    "    return x"
   ]
  },
  {
   "cell_type": "markdown",
   "metadata": {},
   "source": [
    "## Функция разделения данных"
   ]
  },
  {
   "cell_type": "code",
   "execution_count": 5,
   "metadata": {},
   "outputs": [],
   "source": [
    "def train_model(df, columns):\n",
    "    df_train_lr = pd.DataFrame(df, columns=columns)\n",
    "    df_lr = [[] for _ in range(len(buildings))]\n",
    "    for building in buildings:\n",
    "        df_lr[building] = [[] for _ in range(len(hours))]\n",
    "        df_train_b = df_train_lr[df_train_lr[\"building_id\"] == building]\n",
    "        for hour in hours:\n",
    "            df_train_bh = df_train_b[df_train_b[\"hour\"] == hour]\n",
    "            y = df_train_bh[\"meter_reading_log\"]\n",
    "            x = df_train_bh.drop(\n",
    "                labels=[\n",
    "                    \"meter_reading_log\",\n",
    "                    \"hour\",\n",
    "                    \"building_id\"\n",
    "                ],\n",
    "                axis=1\n",
    "            )\n",
    "            model = LinearRegression(fit_intercept=False).fit(x, y)\n",
    "            df_lr[building][hour] = model.coef_\n",
    "            df_lr[building][hour] = np.append(df_lr[building][hour], model.intercept_)\n",
    "    return df_lr  "
   ]
  },
  {
   "cell_type": "markdown",
   "metadata": {},
   "source": [
    "## Вычисление качества моделей"
   ]
  },
  {
   "cell_type": "code",
   "execution_count": 6,
   "metadata": {},
   "outputs": [],
   "source": [
    "def calculate_weights_model(df_test, df_train, lr_columns):\n",
    "    df_test = df_test.apply(\n",
    "        calculate_model,\n",
    "        axis=1,\n",
    "        result_type=\"expand\",\n",
    "        df_lr=train_model(df_train, lr_columns),\n",
    "        lr_columns=lr_columns\n",
    "    )\n",
    "\n",
    "    return pd.Series(df_test.groupby([\"hour\", \"building_id\"])[\"meter_reading_lr_q\"].sum())"
   ]
  },
  {
   "cell_type": "code",
   "execution_count": 7,
   "metadata": {},
   "outputs": [],
   "source": [
    "def calculate_weights():\n",
    "    df_train, df_test = train_test_split(energy[energy[\"meter_reading\"] > 0], test_size=0.2)\n",
    "    return (calculate_weights_model(df_test, df_train, lr_weather_columns),\n",
    "            calculate_weights_model(df_test, df_train, lr_days_columns))\n"
   ]
  },
  {
   "cell_type": "markdown",
   "metadata": {},
   "source": [
    "## Расчитать оптимальные веса для каждого часа и здания"
   ]
  },
  {
   "cell_type": "markdown",
   "metadata": {},
   "source": [
    "10 раз разбить исходный набор данных на обучающую/тестовую выборку, рассчитаем в каждом случае значение ошибки для каждого здания и часа.\n",
    "Сформировать список весов: 1 - учитываем регрессию по дням недели, 0 - учитываем регрессию по погоде."
   ]
  },
  {
   "cell_type": "code",
   "execution_count": 8,
   "metadata": {},
   "outputs": [
    {
     "name": "stdout",
     "output_type": "stream",
     "text": [
      "Расчет весов ансамбля, итереция #0\n",
      "Расчет весов ансамбля, итереция #1\n",
      "Расчет весов ансамбля, итереция #2\n",
      "Расчет весов ансамбля, итереция #3\n",
      "Расчет весов ансамбля, итереция #4\n",
      "Расчет весов ансамбля, итереция #5\n",
      "Расчет весов ансамбля, итереция #6\n",
      "Расчет весов ансамбля, итереция #7\n",
      "Расчет весов ансамбля, итереция #8\n",
      "Расчет весов ансамбля, итереция #9\n",
      "[[0, 0, 0, 0, 0, 0, 0, 0, 0, 0, 0, 0, 0, 0, 0, 0, 0, 0, 0, 0, 0, 0, 0, 0], [0, 0, 0, 0, 0, 0, 0, 0, 0, 0, 0, 0, 0, 0, 0, 0, 0, 0, 0, 0, 0, 0, 0, 0], [0, 1, 1, 1, 0, 0, 0, 0, 0, 0, 0, 0, 0, 0, 0, 0, 0, 0, 0, 0, 0, 0, 0, 0], [0, 0, 0, 0, 0, 0, 0, 0, 0, 0, 0, 0, 0, 0, 0, 0, 0, 0, 0, 0, 0, 0, 0, 0], [0, 0, 0, 0, 0, 0, 0, 1, 0, 0, 0, 0, 0, 0, 0, 0, 1, 0, 0, 0, 0, 0, 0, 0], [0, 0, 0, 0, 0, 0, 0, 0, 0, 0, 0, 0, 0, 0, 0, 0, 0, 0, 0, 0, 0, 1, 0, 0], [0, 0, 0, 0, 0, 0, 0, 0, 0, 0, 0, 0, 0, 0, 0, 0, 0, 0, 0, 0, 0, 0, 0, 0], [0, 0, 0, 0, 0, 0, 0, 0, 0, 0, 0, 0, 0, 0, 0, 0, 0, 0, 0, 0, 0, 0, 0, 0], [0, 0, 0, 0, 0, 0, 0, 0, 0, 0, 0, 0, 0, 0, 0, 1, 0, 0, 0, 0, 0, 0, 0, 0], [0, 0, 0, 0, 0, 0, 0, 0, 0, 0, 0, 1, 0, 1, 0, 0, 1, 0, 0, 0, 1, 0, 0, 0], [0, 0, 0, 0, 0, 0, 0, 0, 0, 0, 0, 0, 0, 0, 0, 0, 0, 0, 0, 0, 0, 0, 0, 0], [0, 0, 0, 0, 0, 0, 0, 0, 0, 0, 0, 0, 0, 0, 0, 0, 0, 0, 0, 0, 0, 0, 0, 0], [0, 0, 0, 0, 0, 0, 0, 0, 0, 0, 0, 0, 0, 0, 0, 0, 0, 0, 0, 0, 0, 0, 0, 0], [0, 0, 0, 0, 0, 0, 1, 0, 0, 0, 0, 0, 0, 1, 0, 0, 0, 0, 0, 0, 0, 0, 0, 0], [0, 0, 0, 0, 0, 0, 0, 0, 0, 0, 0, 0, 0, 0, 0, 0, 0, 0, 0, 0, 0, 0, 0, 0], [0, 0, 0, 0, 0, 0, 0, 0, 0, 1, 0, 0, 0, 0, 0, 0, 0, 0, 0, 0, 0, 0, 0, 0], [0, 0, 0, 0, 0, 0, 0, 0, 0, 0, 0, 0, 0, 0, 0, 0, 0, 0, 0, 0, 0, 0, 0, 0], [0, 0, 0, 0, 0, 0, 0, 0, 0, 0, 0, 0, 0, 0, 0, 0, 0, 0, 0, 0, 0, 0, 0, 0], [0, 0, 0, 0, 0, 0, 0, 0, 0, 0, 0, 0, 0, 0, 0, 0, 1, 0, 0, 0, 0, 0, 0, 0], [0, 0, 0, 0, 0, 0, 1, 0, 0, 1, 0, 0, 0, 0, 0, 0, 0, 0, 0, 0, 0, 0, 0, 0]]\n"
     ]
    }
   ],
   "source": [
    "import warnings\n",
    "  \n",
    "# suppress warnings\n",
    "warnings.filterwarnings('ignore')\n",
    "  \n",
    "\n",
    "weights_weather = []\n",
    "weights_days = []\n",
    "for i in range(0, 10):\n",
    "    print(f\"Расчет весов ансамбля, итереция #{i}\")\n",
    "\n",
    "    weights_weather_model, weights_days_model = calculate_weights()\n",
    "    if len(weights_weather) > 0:\n",
    "        weights_weather = weights_weather + weights_weather_model\n",
    "    else:\n",
    "        weights_weather = weights_weather_model\n",
    "    \n",
    "    if len(weights_days) > 0:\n",
    "        weights_days = weights_days + weights_days_model\n",
    "    else:\n",
    "        weights_days = weights_days_model\n",
    "    \n",
    "    weights = [0 for _ in range(len(buildings))]\n",
    "    for b in buildings:\n",
    "        weights[b] = [0 for _ in range(len(hours))]\n",
    "        for h in hours:\n",
    "            if weights_weather.loc[h].at[b] > weights_days.loc[h].at[b]:\n",
    "                weights[b][h] = 1\n",
    "print(weights)"
   ]
  },
  {
   "cell_type": "markdown",
   "metadata": {},
   "source": [
    "## Разделить данные на обучающие и тестовые"
   ]
  },
  {
   "cell_type": "code",
   "execution_count": 9,
   "metadata": {},
   "outputs": [],
   "source": [
    "energy_train, energy_test = train_test_split(energy[energy[\"meter_reading\"]>0], test_size=0.2)"
   ]
  },
  {
   "cell_type": "markdown",
   "metadata": {},
   "source": [
    "## Обучить модели линейной регрессии по дате/погоде"
   ]
  },
  {
   "cell_type": "code",
   "execution_count": 10,
   "metadata": {},
   "outputs": [],
   "source": [
    "energy_lr_days = train_model(energy_train, lr_days_columns)\n",
    "energy_lr_weather = train_model(energy_train, lr_weather_columns)"
   ]
  },
  {
   "cell_type": "markdown",
   "metadata": {},
   "source": [
    "## Рассчет финального качества ансамбля\n",
    "Если вес 1, то считать регрессию по дням недели, если 0 - то по погоде"
   ]
  },
  {
   "cell_type": "code",
   "execution_count": 11,
   "metadata": {},
   "outputs": [],
   "source": [
    "def calculate_model_ensemble(x, model, columns):\n",
    "    lr = -1\n",
    "    if len(model) > 0:\n",
    "        lr = np.sum([x[col] * model[i] for i, col in enumerate(columns[3:])])\n",
    "        lr += model[len(columns) - 3]\n",
    "        lr = np.exp(lr)\n",
    "    if lr < 0 or lr*lr == lr:\n",
    "        lr = 0\n",
    "    return lr"
   ]
  },
  {
   "cell_type": "code",
   "execution_count": 12,
   "metadata": {},
   "outputs": [],
   "source": [
    "def calculate_models_ensemble(x):\n",
    "    lr_d = calculate_model_ensemble(\n",
    "        x,\n",
    "        energy_lr_days[x.building_id][x.hour],\n",
    "        lr_days_columns\n",
    "    )\n",
    "    lr_w = calculate_model_ensemble(\n",
    "        x,\n",
    "        energy_lr_weather[x.building_id][x.hour],\n",
    "        lr_weather_columns\n",
    "    )\n",
    "    if weights[x.building_id][x.hour] == 1:\n",
    "        lr = lr_d\n",
    "    else:\n",
    "        lr = lr_w\n",
    "    lr_sum = (lr_w + lr_d)/2\n",
    "    x[\"meter_reading_lr_q\"] = (np.log(x.meter_reading + 1) - np.log(1 + lr))**2\n",
    "    x[\"meter_reading_sum_q\"] = (np.log(x.meter_reading + 1) - np.log(1 + lr_sum))**2\n",
    "\n",
    "    return x"
   ]
  },
  {
   "cell_type": "code",
   "execution_count": 13,
   "metadata": {},
   "outputs": [
    {
     "name": "stdout",
     "output_type": "stream",
     "text": [
      "Качество ансамбля, 20 зданий: 0.22868132801883848, округленно - 0.2\n",
      "Качество ансамбля суммы, 20 зданий: 0.20168215570007034, округленно - 0.2\n"
     ]
    }
   ],
   "source": [
    "energy_test = energy_test.apply(calculate_models_ensemble, axis=1, result_type=\"expand\")\n",
    "energy_test_lr_rmsle = np.sqrt(energy_test[\"meter_reading_lr_q\"].sum() / len(energy_test))\n",
    "energy_test_sum_rmsle = np.sqrt(energy_test[\"meter_reading_sum_q\"].sum() / len(energy_test))\n",
    "print(\n",
    "    f\"Качество ансамбля, 20 зданий: {energy_test_lr_rmsle}, округленно - {round(energy_test_lr_rmsle, 1)}\")\n",
    "print(\n",
    "    f\"Качество ансамбля суммы, 20 зданий: {energy_test_sum_rmsle}, округленно - {round(energy_test_sum_rmsle, 1)}\")\n"
   ]
  }
 ],
 "metadata": {
  "kernelspec": {
   "display_name": "Python 3.8.10 ('env_dsalgo')",
   "language": "python",
   "name": "python3"
  },
  "language_info": {
   "codemirror_mode": {
    "name": "ipython",
    "version": 3
   },
   "file_extension": ".py",
   "mimetype": "text/x-python",
   "name": "python",
   "nbconvert_exporter": "python",
   "pygments_lexer": "ipython3",
   "version": "3.8.10"
  },
  "orig_nbformat": 4,
  "vscode": {
   "interpreter": {
    "hash": "01c14519b4974e9683bf796b0f04b445c3210d47f2a006233f6cff14adf5564b"
   }
  }
 },
 "nbformat": 4,
 "nbformat_minor": 2
}
