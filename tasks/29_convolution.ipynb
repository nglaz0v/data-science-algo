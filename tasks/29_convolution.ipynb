{
 "cells": [
  {
   "cell_type": "markdown",
   "metadata": {},
   "source": [
    "# Свертка и предвыборка"
   ]
  },
  {
   "cell_type": "markdown",
   "metadata": {},
   "source": [
    "1. Построить нейросети с линейными, сверточными слоями и слоями подвыборки.\n",
    "2. Проверить, какая конфигурация работает лучше линейных слоев.\n",
    "3. Оценить качество предсказания по коэффициенту сходства."
   ]
  },
  {
   "cell_type": "markdown",
   "metadata": {},
   "source": [
    "## Подключение библиотек."
   ]
  },
  {
   "cell_type": "code",
   "execution_count": 1,
   "metadata": {},
   "outputs": [],
   "source": [
    "%matplotlib inline\n",
    "\n",
    "import pandas as pd\n",
    "import numpy as np\n",
    "import matplotlib.pyplot as plt\n",
    "import keras\n",
    "import os\n",
    "\n",
    "from sklearn.model_selection import train_test_split\n",
    "from skimage import io\n",
    "from keras.models import Sequential\n",
    "from keras.layers import Dense, Activation, Flatten, Conv2D, MaxPooling2D"
   ]
  },
  {
   "cell_type": "markdown",
   "metadata": {},
   "source": [
    "## Используемые функции"
   ]
  },
  {
   "cell_type": "code",
   "execution_count": 2,
   "metadata": {},
   "outputs": [],
   "source": [
    "image_x = 525\n",
    "image_y = 350\n",
    "\n",
    "def mask_rate(a, x, y):\n",
    "    b = a // 1400\n",
    "    return np.round(x*(b*x // 2100) + y*(a%1400) // 1400).astype(\"uint32\")\n",
    "\n",
    "def calc_mask(px, x=525, y=350):\n",
    "    p = np.array([int(n) for n in px.split(\" \")]).reshape(-1, 2)\n",
    "    mask = np.zeros(y*x, dtype=\"uint8\")\n",
    "    for i, m in p:\n",
    "        mask[mask_rate(i, x, y)-1:mask_rate(m + i, x, y)] = 1\n",
    "    return mask.reshape(y, x).transpose()\n",
    "\n",
    "def calc_dice(x):\n",
    "    dice = 0\n",
    "    px = x[\"EncodedPixels\"]\n",
    "    if px != px and x[\"target\"] == 0:\n",
    "        dice = 1\n",
    "    elif px == px and x[\"target\"] == 1:\n",
    "        mask = calc_mask(px).flatten()\n",
    "        target = np.ones(image_x*image_y, dtype=\"uint8\")\n",
    "        dice = 2*np.sum(target[mask==1]) / (np.sum(target) + np.sum(mask))\n",
    "    \n",
    "    return dice"
   ]
  },
  {
   "cell_type": "markdown",
   "metadata": {},
   "source": [
    "## Загрузка данных"
   ]
  },
  {
   "cell_type": "code",
   "execution_count": 3,
   "metadata": {},
   "outputs": [],
   "source": [
    "data = pd.read_csv(\"../data/clouds/train.csv.gz\")"
   ]
  },
  {
   "cell_type": "code",
   "execution_count": 4,
   "metadata": {},
   "outputs": [
    {
     "name": "stdout",
     "output_type": "stream",
     "text": [
      "                                        EncodedPixels        Image Label\n",
      "0   264918 937 266318 937 267718 937 269118 937 27...  0011165.jpg  Fish\n",
      "4   233813 878 235213 878 236613 878 238010 881 23...  002be4f.jpg  Fish\n",
      "8   3510 690 4910 690 6310 690 7710 690 9110 690 1...  0031ae9.jpg  Fish\n",
      "12                                                NaN  0035239.jpg  Fish\n",
      "16  2367966 18 2367985 2 2367993 8 2368002 62 2369...  003994e.jpg  Fish\n"
     ]
    }
   ],
   "source": [
    "data[\"Image\"] = data[\"Image_Label\"].str.split(\"_\").str[0]\n",
    "data[\"Label\"] = data[\"Image_Label\"].str.split(\"_\").str[1]\n",
    "data.drop(labels=[\"Image_Label\"], axis=1, inplace=True)\n",
    "data_fish = data[data[\"Label\"] == \"Fish\"]\n",
    "print(data_fish.head())"
   ]
  },
  {
   "cell_type": "markdown",
   "metadata": {},
   "source": [
    "## Разделение данных"
   ]
  },
  {
   "cell_type": "code",
   "execution_count": 5,
   "metadata": {},
   "outputs": [
    {
     "name": "stdout",
     "output_type": "stream",
     "text": [
      "                                           EncodedPixels        Image Label\n",
      "3204                                                 NaN  2404bd2.jpg  Fish\n",
      "10848  32201 1367 33601 1367 35001 1367 36401 1367 37...  7b7d5ef.jpg  Fish\n",
      "20560  440152 657 441552 657 442952 657 444352 657 44...  ecefc50.jpg  Fish\n",
      "19472                                                NaN  e0d46d0.jpg  Fish\n",
      "18240  1109543 533 1110943 533 1112343 533 1113743 53...  d2e7aa7.jpg  Fish\n"
     ]
    }
   ],
   "source": [
    "train, test = train_test_split(data_fish, test_size=0.2)\n",
    "del data\n",
    "print(train.head())"
   ]
  },
  {
   "cell_type": "markdown",
   "metadata": {},
   "source": [
    "## Сверточная сеть"
   ]
  },
  {
   "cell_type": "markdown",
   "metadata": {},
   "source": [
    "1. Данные загружаются пакетами\n",
    "2. Функции для загрузки двух типов данных: графических из изображения и типа облака на изображении"
   ]
  },
  {
   "cell_type": "code",
   "execution_count": 6,
   "metadata": {},
   "outputs": [],
   "source": [
    "image_ch = 3"
   ]
  },
  {
   "cell_type": "code",
   "execution_count": 16,
   "metadata": {},
   "outputs": [],
   "source": [
    "def load_y(df):\n",
    "    return np.array(df[\"EncodedPixels\"].notnull().astype(\"int8\")).reshape(-1, 1)\n",
    "\n",
    "\n",
    "def load_x(df, files_dir):\n",
    "    x = [[] for _ in range(len(df))]\n",
    "    for j, file in enumerate(df[\"Image\"]):\n",
    "        x[j] = io.imread(os.path.join(files_dir, file))\n",
    "    return np.array(x).reshape(len(df), image_y, image_x, image_ch)\n",
    "\n",
    "\n",
    "def load_data(df, batch_size=20):\n",
    "    while True:\n",
    "        batch_start = 0\n",
    "        batch_end = batch_size\n",
    "        while batch_start < len(df):\n",
    "            limit = min(batch_end, len(df))\n",
    "            yield (load_x(df[batch_start:limit], \"../data/clouds/train_images_small/\"),\n",
    "                   load_y(df[batch_start:limit]))"
   ]
  },
  {
   "cell_type": "code",
   "execution_count": 8,
   "metadata": {},
   "outputs": [],
   "source": [
    "model = Sequential(\n",
    "    [\n",
    "        Conv2D(\n",
    "            32,\n",
    "            (3, 3),\n",
    "            input_shape=(image_y, image_x, image_ch),\n",
    "            strides=(2, 2)\n",
    "        ),\n",
    "        Activation(\"relu\"),\n",
    "        Conv2D(32, (3, 3), strides=(2, 2)),\n",
    "        Activation(\"relu\"),\n",
    "        MaxPooling2D(pool_size=(2, 2)),\n",
    "        Flatten(),\n",
    "        Activation(\"softmax\"),\n",
    "        Dense(1)\n",
    "    ]\n",
    ")"
   ]
  },
  {
   "cell_type": "markdown",
   "metadata": {},
   "source": [
    "## Топология модели"
   ]
  },
  {
   "cell_type": "code",
   "execution_count": 12,
   "metadata": {},
   "outputs": [
    {
     "data": {
      "image/png": "[encoded data removed]",
      "text/plain": [
       "<IPython.core.display.Image object>"
      ]
     },
     "execution_count": 12,
     "metadata": {},
     "output_type": "execute_result"
    }
   ],
   "source": [
    "os.environ[\"PATH\"] += os.pathsep + 'C:/Program Files/Graphviz/bin/'\n",
    "os.environ[\"KERAS_BACKEND\"] = \"plaidml.keras.backend\"\n",
    "\n",
    "keras.utils.plot_model(\n",
    "    model,\n",
    "    to_file=\"../data/out/m10041.png\",\n",
    "    show_shapes=True,\n",
    "    show_layer_names=True,\n",
    "    rankdir=\"TB\"\n",
    ")"
   ]
  },
  {
   "cell_type": "markdown",
   "metadata": {},
   "source": [
    "## Построить и обучить модель используя градиентынй спуск и абсолютную ошибку"
   ]
  },
  {
   "cell_type": "code",
   "execution_count": 13,
   "metadata": {},
   "outputs": [],
   "source": [
    "model.compile(optimizer=\"adam\", loss=\"mean_absolute_error\")"
   ]
  },
  {
   "cell_type": "code",
   "execution_count": 19,
   "metadata": {},
   "outputs": [
    {
     "name": "stdout",
     "output_type": "stream",
     "text": [
      "Epoch 1/20\n",
      "221/221 [==============================] - 214s 969ms/step - loss: 0.0525\n",
      "Epoch 2/20\n",
      "221/221 [==============================] - 203s 917ms/step - loss: 0.0011\n",
      "Epoch 3/20\n",
      "221/221 [==============================] - 190s 859ms/step - loss: 1.7226e-04\n",
      "Epoch 4/20\n",
      "221/221 [==============================] - 192s 868ms/step - loss: 1.6873e-04\n",
      "Epoch 5/20\n",
      "221/221 [==============================] - 190s 862ms/step - loss: 1.6325e-04\n",
      "Epoch 6/20\n",
      "221/221 [==============================] - 189s 855ms/step - loss: 1.6587e-04\n",
      "Epoch 7/20\n",
      "221/221 [==============================] - 191s 866ms/step - loss: 1.5736e-04\n",
      "Epoch 8/20\n",
      "221/221 [==============================] - 189s 857ms/step - loss: 1.5714e-04\n",
      "Epoch 9/20\n",
      "221/221 [==============================] - 193s 872ms/step - loss: 1.6686e-04\n",
      "Epoch 10/20\n",
      "221/221 [==============================] - 188s 850ms/step - loss: 1.6646e-04\n",
      "Epoch 11/20\n",
      "221/221 [==============================] - 189s 857ms/step - loss: 1.8078e-04\n",
      "Epoch 12/20\n",
      "221/221 [==============================] - 188s 850ms/step - loss: 1.5208e-04\n",
      "Epoch 13/20\n",
      "221/221 [==============================] - 188s 852ms/step - loss: 1.6314e-04\n",
      "Epoch 14/20\n",
      "221/221 [==============================] - 197s 889ms/step - loss: 1.6973e-04\n",
      "Epoch 15/20\n",
      "221/221 [==============================] - 192s 868ms/step - loss: 1.6861e-04\n",
      "Epoch 16/20\n",
      "221/221 [==============================] - 210s 950ms/step - loss: 1.6219e-04\n",
      "Epoch 17/20\n",
      "221/221 [==============================] - 209s 946ms/step - loss: 1.5499e-04\n",
      "Epoch 18/20\n",
      "221/221 [==============================] - 207s 939ms/step - loss: 1.4712e-04\n",
      "Epoch 19/20\n",
      "221/221 [==============================] - 197s 891ms/step - loss: 1.4700e-04\n",
      "Epoch 20/20\n",
      "221/221 [==============================] - 198s 896ms/step - loss: 1.7943e-04\n"
     ]
    },
    {
     "data": {
      "text/plain": [
       "<keras.callbacks.History at 0x3d902f70>"
      ]
     },
     "execution_count": 19,
     "metadata": {},
     "output_type": "execute_result"
    }
   ],
   "source": [
    "import warnings\n",
    "warnings.filterwarnings('ignore')\n",
    "\n",
    "batch_size = 20\n",
    "model.fit_generator(load_data(train),\n",
    "                    epochs=20,\n",
    "                    steps_per_epoch=len(train)//batch_size,\n",
    "                    verbose=True)\n"
   ]
  }
 ],
 "metadata": {
  "kernelspec": {
   "display_name": "Python 3.8.10 ('env_dsalgo')",
   "language": "python",
   "name": "python3"
  },
  "language_info": {
   "codemirror_mode": {
    "name": "ipython",
    "version": 3
   },
   "file_extension": ".py",
   "mimetype": "text/x-python",
   "name": "python",
   "nbconvert_exporter": "python",
   "pygments_lexer": "ipython3",
   "version": "3.8.10"
  },
  "orig_nbformat": 4,
  "vscode": {
   "interpreter": {
    "hash": "01c14519b4974e9683bf796b0f04b445c3210d47f2a006233f6cff14adf5564b"
   }
  }
 },
 "nbformat": 4,
 "nbformat_minor": 2
}
