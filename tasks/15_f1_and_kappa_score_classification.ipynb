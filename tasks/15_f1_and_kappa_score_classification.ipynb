{
 "cells": [
  {
   "cell_type": "markdown",
   "metadata": {},
   "source": [
    "# F1 и каппа оценка классификации"
   ]
  },
  {
   "cell_type": "markdown",
   "metadata": {},
   "source": [
    "1. Разделить выборку на обуч./пров. в соотн. 80/20\n",
    "2. Для обучения вычислить среднее значение для веса, роста, индекса массы тела и возраста - для каждого из принятых решений. Предсказать оценку скоринга по близости данных средним значениям.\n",
    "3. Проверить качество предсказаний через F1-метрику и матрицу неточностей."
   ]
  },
  {
   "cell_type": "markdown",
   "metadata": {},
   "source": [
    "## Подключение библиотек"
   ]
  },
  {
   "cell_type": "code",
   "execution_count": 1,
   "metadata": {},
   "outputs": [],
   "source": [
    "import pandas as pd\n",
    "import numpy as np\n",
    "\n",
    "from sklearn.model_selection import train_test_split\n",
    "from sklearn.metrics import f1_score, confusion_matrix, cohen_kappa_score"
   ]
  },
  {
   "cell_type": "markdown",
   "metadata": {},
   "source": [
    "## Загрузка данных"
   ]
  },
  {
   "cell_type": "code",
   "execution_count": 2,
   "metadata": {},
   "outputs": [
    {
     "name": "stdout",
     "output_type": "stream",
     "text": [
      "<class 'pandas.core.frame.DataFrame'>\n",
      "RangeIndex: 59381 entries, 0 to 59380\n",
      "Columns: 128 entries, Id to Response\n",
      "dtypes: float64(18), int64(109), object(1)\n",
      "memory usage: 58.0+ MB\n",
      "None\n"
     ]
    }
   ],
   "source": [
    "data = pd.read_csv(\"../data/prudential/train.csv.gz\")\n",
    "print(data.info())"
   ]
  },
  {
   "cell_type": "markdown",
   "metadata": {},
   "source": [
    "## Разделить данные на обучающие и проверочные, 80/20"
   ]
  },
  {
   "cell_type": "code",
   "execution_count": 4,
   "metadata": {},
   "outputs": [
    {
     "name": "stdout",
     "output_type": "stream",
     "text": [
      "          Id  Product_Info_1 Product_Info_2  Product_Info_3  Product_Info_4  \\\n",
      "50471  67211               1             D3              26        1.000000   \n",
      "45159  60059               1             D3              26        0.487179   \n",
      "40949  54404               1             A8              26        1.000000   \n",
      "12752  16930               1             D3              26        0.076923   \n",
      "31174  41391               1             C3              26        0.230769   \n",
      "\n",
      "       Product_Info_5  Product_Info_6  Product_Info_7   Ins_Age        Ht  \\\n",
      "50471               2               3               1  0.223881  0.745455   \n",
      "45159               2               3               1  0.238806  0.781818   \n",
      "40949               2               3               1  0.238806  0.709091   \n",
      "12752               2               3               1  0.074627  0.690909   \n",
      "31174               2               3               1  0.298507  0.709091   \n",
      "\n",
      "       ...  Medical_Keyword_40  Medical_Keyword_41  Medical_Keyword_42  \\\n",
      "50471  ...                   0                   0                   0   \n",
      "45159  ...                   0                   0                   0   \n",
      "40949  ...                   0                   0                   0   \n",
      "12752  ...                   0                   0                   0   \n",
      "31174  ...                   0                   0                   0   \n",
      "\n",
      "       Medical_Keyword_43  Medical_Keyword_44  Medical_Keyword_45  \\\n",
      "50471                   0                   0                   0   \n",
      "45159                   0                   0                   0   \n",
      "40949                   0                   0                   0   \n",
      "12752                   0                   0                   0   \n",
      "31174                   0                   0                   0   \n",
      "\n",
      "       Medical_Keyword_46  Medical_Keyword_47  Medical_Keyword_48  Response  \n",
      "50471                   0                   0                   0         6  \n",
      "45159                   0                   0                   0         6  \n",
      "40949                   0                   0                   0         8  \n",
      "12752                   0                   0                   0         8  \n",
      "31174                   0                   0                   0         7  \n",
      "\n",
      "[5 rows x 128 columns]\n"
     ]
    }
   ],
   "source": [
    "data_train, data_test = train_test_split(data, test_size=0.2)\n",
    "print(data_train.head())"
   ]
  },
  {
   "cell_type": "markdown",
   "metadata": {},
   "source": [
    "## Вычислить медиану для каждой оценки"
   ]
  },
  {
   "cell_type": "code",
   "execution_count": 12,
   "metadata": {},
   "outputs": [
    {
     "name": "stdout",
     "output_type": "stream",
     "text": [
      "[{}, {'Wt': 0.309623431, 'Ht': 0.709090909, 'Ins_Age': 0.52238806, 'BMI': 0.483173533}, {'Wt': 0.330543933, 'Ht': 0.727272727, 'Ins_Age': 0.47761194, 'BMI': 0.510582282}, {'Wt': 0.317991632, 'Ht': 0.727272727, 'Ins_Age': 0.358208955, 'BMI': 0.510582282}, {'Wt': 0.257322176, 'Ht': 0.709090909, 'Ins_Age': 0.328358209, 'BMI': 0.4196545055}, {'Wt': 0.351464435, 'Ht': 0.709090909, 'Ins_Age': 0.402985075, 'BMI': 0.5918224864999999}, {'Wt': 0.309623431, 'Ht': 0.727272727, 'Ins_Age': 0.432835821, 'BMI': 0.489742491}, {'Wt': 0.290794979, 'Ht': 0.709090909, 'Ins_Age': 0.447761194, 'BMI': 0.470772683}, {'Wt': 0.236401674, 'Ht': 0.690909091, 'Ins_Age': 0.313432836, 'BMI': 0.394874563}]\n"
     ]
    }
   ],
   "source": [
    "columns = [\n",
    "    \"Wt\",\n",
    "    \"Ht\",\n",
    "    \"Ins_Age\",\n",
    "    \"BMI\",\n",
    "]\n",
    "\n",
    "responses = np.arange(1, data[\"Response\"].max() + 1)\n",
    "clusters = [{} for _ in range(len(responses) + 1)]\n",
    "\n",
    "for r in responses:\n",
    "    for c in columns:\n",
    "        clusters[r][c] = data[data[\"Response\"] == r][c].median()\n",
    "\n",
    "print(clusters)"
   ]
  },
  {
   "cell_type": "markdown",
   "metadata": {},
   "source": [
    "## Выполнить предсказание оценки скоринга на основе медианы"
   ]
  },
  {
   "cell_type": "markdown",
   "metadata": {},
   "source": [
    "Используем евклидово расстояние:\n",
    "$$ D=\\sqrt{\\sum(a_i - C_i)^2} $$\n"
   ]
  },
  {
   "cell_type": "code",
   "execution_count": 13,
   "metadata": {},
   "outputs": [],
   "source": [
    "def calc_model(x, clusters, columns, data):\n",
    "    D_min = 10000000\n",
    "    target = 0\n",
    "    for i, cluster in enumerate(clusters):\n",
    "        if cluster:\n",
    "            D = 0\n",
    "            for c in columns:\n",
    "                D += (cluster[c] - x[c])**2\n",
    "            D = np.sqrt(D)\n",
    "            if D < D_min:\n",
    "                target = i\n",
    "                D_min = D\n",
    "    x[\"target\"] = target\n",
    "    x[\"random\"] = int(np.random.uniform(1, 8.01, 1)[0])\n",
    "    x[\"sample\"] = data.sample(1)[\"Response\"].values[0]\n",
    "    x[\"all8\"] = 8\n",
    "    return x"
   ]
  },
  {
   "cell_type": "code",
   "execution_count": 15,
   "metadata": {},
   "outputs": [
    {
     "name": "stdout",
     "output_type": "stream",
     "text": [
      "          Id  Product_Info_1 Product_Info_2  Product_Info_3  Product_Info_4  \\\n",
      "31712  42095               1             A2              26        0.230769   \n",
      "23574  31443               1             D3              26        0.333333   \n",
      "32416  43005               1             A8              26        0.076923   \n",
      "18356  24492               1             D4              26        0.384615   \n",
      "10228  13595               1             A5              26        1.000000   \n",
      "56008  74609               1             A5              26        0.076923   \n",
      "52129  69406               1             D4              26        0.487179   \n",
      "46847  62340               1             D4              26        0.333333   \n",
      "7736   10298               1             D2              26        0.128205   \n",
      "59045  78734               1             D3              26        0.230769   \n",
      "55262  73587               1             C4              26        1.000000   \n",
      "26029  34657               2             A1              26        0.076923   \n",
      "13771  18318               1             A8              26        0.230769   \n",
      "23293  31057               1             A8              26        0.076923   \n",
      "36402  48349               1             D1              26        0.230769   \n",
      "42287  56197               1             D3              26        0.487179   \n",
      "5815    7735               1             B2              26        0.487179   \n",
      "1332    1797               2             D4              26        0.487179   \n",
      "58276  77679               1             A1              26        0.410256   \n",
      "22190  29553               1             E1              26        0.076923   \n",
      "\n",
      "       Product_Info_5  Product_Info_6  Product_Info_7   Ins_Age        Ht  \\\n",
      "31712               2               3               1  0.805970  0.690909   \n",
      "23574               2               3               1  0.417910  0.763636   \n",
      "32416               2               3               1  0.835821  0.600000   \n",
      "18356               2               3               1  0.134328  0.545455   \n",
      "10228               2               3               1  0.358209  0.781818   \n",
      "56008               2               3               1  0.268657  0.745455   \n",
      "52129               2               3               1  0.298507  0.709091   \n",
      "46847               2               3               1  0.223881  0.636364   \n",
      "7736                2               3               1  0.567164  0.763636   \n",
      "59045               2               3               1  0.462687  0.763636   \n",
      "55262               2               3               1  0.194030  0.727273   \n",
      "26029               2               3               1  0.164179  0.672727   \n",
      "13771               2               3               1  0.253731  0.745455   \n",
      "23293               2               3               1  0.537313  0.745455   \n",
      "36402               3               1               1  0.552239  0.745455   \n",
      "42287               2               3               1  0.194030  0.872727   \n",
      "5815                2               3               1  0.208955  0.745455   \n",
      "1332                2               3               1  0.119403  0.818182   \n",
      "58276               2               3               1  0.179104  0.763636   \n",
      "22190               2               1               1  0.074627  0.745455   \n",
      "\n",
      "       ...  Medical_Keyword_44  Medical_Keyword_45  Medical_Keyword_46  \\\n",
      "31712  ...                   0                   0                   1   \n",
      "23574  ...                   1                   0                   0   \n",
      "32416  ...                   0                   0                   1   \n",
      "18356  ...                   0                   0                   0   \n",
      "10228  ...                   0                   0                   0   \n",
      "56008  ...                   0                   0                   0   \n",
      "52129  ...                   0                   0                   0   \n",
      "46847  ...                   0                   0                   0   \n",
      "7736   ...                   0                   0                   0   \n",
      "59045  ...                   0                   0                   0   \n",
      "55262  ...                   0                   0                   0   \n",
      "26029  ...                   0                   0                   0   \n",
      "13771  ...                   0                   0                   0   \n",
      "23293  ...                   0                   0                   0   \n",
      "36402  ...                   0                   0                   0   \n",
      "42287  ...                   0                   0                   0   \n",
      "5815   ...                   0                   0                   0   \n",
      "1332   ...                   0                   0                   0   \n",
      "58276  ...                   0                   0                   0   \n",
      "22190  ...                   0                   0                   0   \n",
      "\n",
      "       Medical_Keyword_47  Medical_Keyword_48  Response  target  random  \\\n",
      "31712                   0                   0         1       1       2   \n",
      "23574                   0                   0         6       6       2   \n",
      "32416                   0                   0         6       1       3   \n",
      "18356                   1                   0         6       8       1   \n",
      "10228                   0                   0         8       8       2   \n",
      "56008                   0                   0         3       4       7   \n",
      "52129                   0                   0         8       4       3   \n",
      "46847                   0                   0         8       8       6   \n",
      "7736                    0                   0         8       1       7   \n",
      "59045                   0                   0         6       5       6   \n",
      "55262                   0                   0         6       8       1   \n",
      "26029                   0                   0         8       8       7   \n",
      "13771                   0                   0         7       8       4   \n",
      "23293                   0                   0         7       1       4   \n",
      "36402                   0                   0         6       1       3   \n",
      "42287                   0                   0         5       5       4   \n",
      "5815                    0                   0         8       4       3   \n",
      "1332                    0                   0         8       3       1   \n",
      "58276                   0                   0         1       3       6   \n",
      "22190                   0                   0         8       8       7   \n",
      "\n",
      "       sample  all8  \n",
      "31712       6     8  \n",
      "23574       7     8  \n",
      "32416       8     8  \n",
      "18356       5     8  \n",
      "10228       5     8  \n",
      "56008       8     8  \n",
      "52129       2     8  \n",
      "46847       5     8  \n",
      "7736        8     8  \n",
      "59045       8     8  \n",
      "55262       2     8  \n",
      "26029       8     8  \n",
      "13771       5     8  \n",
      "23293       8     8  \n",
      "36402       8     8  \n",
      "42287       5     8  \n",
      "5815        8     8  \n",
      "1332        8     8  \n",
      "58276       3     8  \n",
      "22190       2     8  \n",
      "\n",
      "[20 rows x 132 columns]\n"
     ]
    }
   ],
   "source": [
    "data_test = data_test.apply(calc_model, axis=1, result_type=\"expand\", args=(clusters, columns, data))\n",
    "print(data_test.head(20))"
   ]
  },
  {
   "cell_type": "markdown",
   "metadata": {},
   "source": [
    "## Оценка качества модели: F1"
   ]
  },
  {
   "cell_type": "code",
   "execution_count": 16,
   "metadata": {},
   "outputs": [
    {
     "name": "stdout",
     "output_type": "stream",
     "text": [
      "Случайный выбор: 0.10298054043901518\n",
      "Выбор по частоте: 0.19152672816479946\n",
      "Кластеризация: 0.2767571635554511\n",
      "Самый популярный: 0.5006627532664268\n"
     ]
    }
   ],
   "source": [
    "print(f\"Случайный выбор: {f1_score(data_test['random'], data_test['Response'], average='weighted')}\")\n",
    "print(f\"Выбор по частоте: {f1_score(data_test['sample'], data_test['Response'], average='weighted')}\")\n",
    "print(f\"Кластеризация: {f1_score(data_test['target'], data_test['Response'], average='weighted')}\")\n",
    "print(f\"Самый популярный: {f1_score(data_test['all8'], data_test['Response'], average='weighted')}\")"
   ]
  },
  {
   "cell_type": "markdown",
   "metadata": {},
   "source": [
    "## Матрица неточностей"
   ]
  },
  {
   "cell_type": "code",
   "execution_count": 17,
   "metadata": {},
   "outputs": [
    {
     "name": "stdout",
     "output_type": "stream",
     "text": [
      "[[ 512  444   36   45  286  655  540  812]\n",
      " [  87   95   18    7   72  192  120   64]\n",
      " [  92  108   40   39  153  389  268  188]\n",
      " [  62   54   15   48   34  214  169  488]\n",
      " [ 216  361   48    2  458  271   33    7]\n",
      " [  26   31    1    2    7   64   39   72]\n",
      " [  69   69   11   24   26  114  139  374]\n",
      " [ 157  155   32  112   74  318  258 1961]]\n"
     ]
    }
   ],
   "source": [
    "print(confusion_matrix(data_test[\"target\"], data_test[\"Response\"]))"
   ]
  },
  {
   "cell_type": "markdown",
   "metadata": {},
   "source": [
    "## Квадратный коэффициент Каппа Коэна"
   ]
  },
  {
   "cell_type": "code",
   "execution_count": 18,
   "metadata": {},
   "outputs": [
    {
     "name": "stdout",
     "output_type": "stream",
     "text": [
      "0.197895147582815\n",
      "0.0\n"
     ]
    }
   ],
   "source": [
    "print(cohen_kappa_score(data_test[\"target\"], data_test[\"Response\"], weights=\"quadratic\"))\n",
    "print(cohen_kappa_score(data_test[\"all8\"], data_test[\"Response\"], weights=\"quadratic\"))"
   ]
  }
 ],
 "metadata": {
  "kernelspec": {
   "display_name": "Python 3 (ipykernel)",
   "language": "python",
   "name": "python3"
  },
  "language_info": {
   "codemirror_mode": {
    "name": "ipython",
    "version": 3
   },
   "file_extension": ".py",
   "mimetype": "text/x-python",
   "name": "python",
   "nbconvert_exporter": "python",
   "pygments_lexer": "ipython3",
   "version": "3.8.10"
  },
  "vscode": {
   "interpreter": {
    "hash": "01c14519b4974e9683bf796b0f04b445c3210d47f2a006233f6cff14adf5564b"
   }
  }
 },
 "nbformat": 4,
 "nbformat_minor": 2
}
