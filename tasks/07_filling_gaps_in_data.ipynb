{
 "cells": [
  {
   "cell_type": "markdown",
   "metadata": {},
   "source": [
    "# Заполнение пропусков в данных\n",
    "1. Заполнить отсутствующие значения по погоде интерполяционными данными.\n",
    "2. Посчитать модель линейной регрессии по первому зданию и найти ее точность."
   ]
  },
  {
   "cell_type": "code",
   "execution_count": 4,
   "metadata": {},
   "outputs": [],
   "source": [
    "import pandas as pd\n",
    "import numpy as np\n",
    "from scipy.interpolate import interp1d\n",
    "from sklearn.model_selection import train_test_split\n",
    "from sklearn.linear_model import LinearRegression"
   ]
  },
  {
   "cell_type": "code",
   "execution_count": 5,
   "metadata": {},
   "outputs": [],
   "source": [
    "buildings = pd.read_csv(\"../data/buildings.csv\")\n",
    "weather = pd.read_csv(\"../data/weather.csv\")\n",
    "energy = pd.read_csv(\"../data/train.0.zip\")"
   ]
  },
  {
   "cell_type": "markdown",
   "metadata": {},
   "source": [
    "## Данные по 0-му зданию"
   ]
  },
  {
   "cell_type": "code",
   "execution_count": 6,
   "metadata": {},
   "outputs": [
    {
     "name": "stdout",
     "output_type": "stream",
     "text": [
      "[0]\n",
      "<class 'pandas.core.frame.DataFrame'>\n",
      "Int64Index: 8784 entries, 0 to 12059506\n",
      "Data columns (total 4 columns):\n",
      " #   Column         Non-Null Count  Dtype  \n",
      "---  ------         --------------  -----  \n",
      " 0   building_id    8784 non-null   int64  \n",
      " 1   meter          8784 non-null   int64  \n",
      " 2   timestamp      8784 non-null   object \n",
      " 3   meter_reading  8784 non-null   float64\n",
      "dtypes: float64(1), int64(2), object(1)\n",
      "memory usage: 343.1+ KB\n",
      "None\n"
     ]
    }
   ],
   "source": [
    "energy = energy[energy[\"building_id\"]==0]\n",
    "print(energy[\"building_id\"].unique())\n",
    "print(energy.info())"
   ]
  },
  {
   "cell_type": "markdown",
   "metadata": {},
   "source": [
    "## Объединение данных"
   ]
  },
  {
   "cell_type": "code",
   "execution_count": 7,
   "metadata": {},
   "outputs": [
    {
     "name": "stdout",
     "output_type": "stream",
     "text": [
      "<class 'pandas.core.frame.DataFrame'>\n",
      "RangeIndex: 8784 entries, 0 to 8783\n",
      "Data columns (total 14 columns):\n",
      " #   Column              Non-Null Count  Dtype  \n",
      "---  ------              --------------  -----  \n",
      " 0   timestamp           8784 non-null   object \n",
      " 1   building_id         8784 non-null   int64  \n",
      " 2   meter_reading       8784 non-null   float64\n",
      " 3   primary_use         8784 non-null   object \n",
      " 4   square_feet         8784 non-null   int64  \n",
      " 5   year_built          8784 non-null   float64\n",
      " 6   floor_count         0 non-null      float64\n",
      " 7   air_temperature     8781 non-null   float64\n",
      " 8   cloud_coverage      4954 non-null   float64\n",
      " 9   dew_temperature     8781 non-null   float64\n",
      " 10  precip_depth_1_hr   8783 non-null   float64\n",
      " 11  sea_level_pressure  8699 non-null   float64\n",
      " 12  wind_direction      8534 non-null   float64\n",
      " 13  wind_speed          8784 non-null   float64\n",
      "dtypes: float64(10), int64(2), object(2)\n",
      "memory usage: 960.9+ KB\n",
      "None\n"
     ]
    }
   ],
   "source": [
    "energy = pd.merge(\n",
    "    left=energy,\n",
    "    right=buildings,\n",
    "    how=\"left\",\n",
    "    left_on=\"building_id\",\n",
    "    right_on=\"building_id\",\n",
    ")\n",
    "energy = energy.set_index([\"timestamp\", \"site_id\"])\n",
    "weather = weather.set_index([\"timestamp\", \"site_id\"])\n",
    "energy = pd.merge(\n",
    "    left=energy,\n",
    "    right=weather,\n",
    "    how=\"left\",\n",
    "    left_index=True,\n",
    "    right_index=True,\n",
    ")\n",
    "energy.reset_index(inplace=True)\n",
    "energy = energy.drop(\n",
    "    columns=[\n",
    "        \"meter\",\n",
    "        \"site_id\",\n",
    "    ],\n",
    "    axis=1\n",
    ")\n",
    "\n",
    "del buildings\n",
    "del weather\n",
    "print(energy.info())"
   ]
  },
  {
   "cell_type": "markdown",
   "metadata": {},
   "source": [
    "## Оптимизация памяти"
   ]
  },
  {
   "cell_type": "code",
   "execution_count": 8,
   "metadata": {},
   "outputs": [],
   "source": [
    "def reduce_mem_usage(df: pd.DataFrame) -> pd.DataFrame:\n",
    "    start_mem = df.memory_usage().sum()/1024**2\n",
    "    for col in df.columns:\n",
    "        col_type = df[col].dtypes\n",
    "        \n",
    "        if str(col_type)[:5] == \"float\":\n",
    "            c_min = df[col].min()\n",
    "            c_max = df[col].max()\n",
    "            \n",
    "            if c_min > np.finfo(\"f2\").min and c_max < np.finfo(\"f2\").max:\n",
    "                df[col] = df[col].astype(np.float16)\n",
    "            elif c_min > np.finfo(\"f4\").min and c_max < np.finfo(\"f4\").max:\n",
    "                df[col] = df[col].astype(np.float32)\n",
    "            else:\n",
    "                df[col] = df[col].astype(np.float64)\n",
    "\n",
    "        elif str(col_type)[:3] == \"int\":\n",
    "            c_min = df[col].min()\n",
    "            c_max = df[col].max()\n",
    "            \n",
    "            if c_min > np.iinfo(\"i1\").min and c_max < np.iinfo(\"i1\").max:\n",
    "                df[col] = df[col].astype(np.int8)\n",
    "            elif c_min > np.iinfo(\"i2\").min and c_max < np.iinfo(\"i2\").max:\n",
    "                df[col] = df[col].astype(np.int16)\n",
    "            elif c_min > np.iinfo(\"i4\").min and c_max < np.iinfo(\"i4\").max:\n",
    "                df[col] = df[col].astype(np.int32)\n",
    "            elif c_min > np.iinfo(\"i8\").min and c_max < np.iinfo(\"i8\").max:\n",
    "                df[col] = df[col].astype(np.int64)\n",
    "            \n",
    "        elif col == \"timestamp\":\n",
    "            df[col] = pd.to_datetime(df[col])\n",
    "        \n",
    "        elif str(col_type)[:8] != \"datetime\":\n",
    "            df[col] = df[col].astype(\"category\")\n",
    "    \n",
    "    end_mem = df.memory_usage().sum() / 1024**2\n",
    "    print(f\"Потребление памяти меньше на - {round(start_mem - end_mem, 2)} Мб (минус {round(100*(start_mem - end_mem)/start_mem, 1)}%)\")\n",
    "    return df"
   ]
  },
  {
   "cell_type": "code",
   "execution_count": 9,
   "metadata": {},
   "outputs": [
    {
     "name": "stdout",
     "output_type": "stream",
     "text": [
      "Потребление памяти меньше на - 0.62 Мб (минус 66.1%)\n"
     ]
    }
   ],
   "source": [
    "energy = reduce_mem_usage(energy)"
   ]
  },
  {
   "cell_type": "markdown",
   "metadata": {},
   "source": [
    "## Интерполяция данных"
   ]
  },
  {
   "cell_type": "code",
   "execution_count": 12,
   "metadata": {},
   "outputs": [],
   "source": [
    "energy[\"precip_depth_1_hr\"] = energy[\"precip_depth_1_hr\"].apply(\n",
    "    lambda x: x if x>0 else 0\n",
    ")\n",
    "\n",
    "interpolate_columns = [\n",
    "    \"air_temperature\",\n",
    "    \"dew_temperature\",\n",
    "    \"cloud_coverage\",\n",
    "    \"wind_speed\",\n",
    "    \"precip_depth_1_hr\",\n",
    "    \"sea_level_pressure\",\n",
    "]\n",
    "for col in interpolate_columns:\n",
    "    energy[col] = energy[col].interpolate(limit_direction=\"both\", kind=\"cubic\")"
   ]
  },
  {
   "cell_type": "markdown",
   "metadata": {},
   "source": [
    "## Проверка качества интерполяции"
   ]
  },
  {
   "cell_type": "code",
   "execution_count": 13,
   "metadata": {},
   "outputs": [
    {
     "name": "stdout",
     "output_type": "stream",
     "text": [
      "air_temperature Inf+Nan: 0\n",
      "dew_temperature Inf+Nan: 0\n",
      "cloud_coverage Inf+Nan: 0\n",
      "wind_speed Inf+Nan: 0\n",
      "precip_depth_1_hr Inf+Nan: 0\n",
      "sea_level_pressure Inf+Nan: 0\n"
     ]
    }
   ],
   "source": [
    "pd.set_option(\"use_inf_as_na\", True)\n",
    "for col in interpolate_columns:\n",
    "    print(f\"{col} Inf+Nan: {energy[col].isna().sum()}\")"
   ]
  },
  {
   "cell_type": "markdown",
   "metadata": {},
   "source": [
    "## Разделить данные"
   ]
  },
  {
   "cell_type": "code",
   "execution_count": 14,
   "metadata": {},
   "outputs": [
    {
     "name": "stdout",
     "output_type": "stream",
     "text": [
      "               timestamp  building_id  meter_reading primary_use  square_feet  \\\n",
      "5172 2016-08-03 12:00:00            0        299.750   Education         7432   \n",
      "4633 2016-07-12 01:00:00            0        303.000   Education         7432   \n",
      "5336 2016-08-10 08:00:00            0        293.500   Education         7432   \n",
      "4506 2016-07-06 18:00:00            0        249.875   Education         7432   \n",
      "3709 2016-06-03 13:00:00            0        255.250   Education         7432   \n",
      "\n",
      "      year_built  floor_count  air_temperature  cloud_coverage  \\\n",
      "5172      2008.0          NaN        25.593750        4.000000   \n",
      "4633      2008.0          NaN        27.796875        6.332031   \n",
      "5336      2008.0          NaN        23.906250        6.398438   \n",
      "4506      2008.0          NaN        35.000000        4.000000   \n",
      "3709      2008.0          NaN        27.796875        2.000000   \n",
      "\n",
      "      dew_temperature  precip_depth_1_hr  sea_level_pressure  wind_direction  \\\n",
      "5172        22.796875                0.0              1016.5           290.0   \n",
      "4633        23.906250                0.0              1018.5           160.0   \n",
      "5336        22.796875                0.0              1018.0           170.0   \n",
      "4506        23.296875                0.0              1020.5             NaN   \n",
      "3709        23.296875                0.0              1018.0           160.0   \n",
      "\n",
      "      wind_speed  \n",
      "5172    1.500000  \n",
      "4633    3.099609  \n",
      "5336    1.500000  \n",
      "4506    3.099609  \n",
      "3709    3.099609  \n"
     ]
    }
   ],
   "source": [
    "energy_train, energy_test = train_test_split(energy[energy[\"meter_reading\"]>0], test_size=0.2)\n",
    "print(energy_train.head())"
   ]
  },
  {
   "cell_type": "markdown",
   "metadata": {},
   "source": [
    "## Линейная регрессия"
   ]
  },
  {
   "cell_type": "code",
   "execution_count": 17,
   "metadata": {},
   "outputs": [
    {
     "name": "stdout",
     "output_type": "stream",
     "text": [
      "[ 2.53377807  3.73983481 -2.41972715 -1.90860465  0.13703707 -1.00194708] 1137.5690576330478\n"
     ]
    }
   ],
   "source": [
    "regression_columns = [\n",
    "    \"meter_reading\",\n",
    "    \"air_temperature\",\n",
    "    \"dew_temperature\",\n",
    "    \"cloud_coverage\",\n",
    "    \"wind_speed\",\n",
    "    \"precip_depth_1_hr\",\n",
    "    \"sea_level_pressure\",\n",
    "]\n",
    "\n",
    "energy_train_lr = pd.DataFrame(energy_train, columns=regression_columns)\n",
    "y = energy_train_lr[\"meter_reading\"]\n",
    "x = energy_train_lr.drop(labels=[\"meter_reading\"], axis=1)\n",
    "model = LinearRegression().fit(x, y)\n",
    "print(model.coef_, model.intercept_)"
   ]
  },
  {
   "cell_type": "markdown",
   "metadata": {},
   "source": [
    "## Предсказание и оценка модели"
   ]
  },
  {
   "cell_type": "code",
   "execution_count": 19,
   "metadata": {},
   "outputs": [
    {
     "name": "stdout",
     "output_type": "stream",
     "text": [
      "Качество линейной регрессии: 0.21175880589094184 (округленно) --- 0.2\n"
     ]
    }
   ],
   "source": [
    "def calculate_model(x):\n",
    "    lr = np.sum(\n",
    "        [\n",
    "            x[col]*model.coef_[i] for i, col in enumerate(regression_columns[1:])\n",
    "        ]\n",
    "    )\n",
    "    lr += model.intercept_\n",
    "    x[\"meter_reading_lr_q\"] = (np.log(1+x.meter_reading) - np.log(1+lr))**2\n",
    "    return x\n",
    "\n",
    "energy_test = energy_test.apply(calculate_model, axis=1, result_type=\"expand\")\n",
    "energy_test_lr_rmsle = np.sqrt(energy_test[\"meter_reading_lr_q\"].sum() / len(energy_test))\n",
    "print(f\"Качество линейной регрессии: {energy_test_lr_rmsle} (округленно) --- {round(energy_test_lr_rmsle, 1)}\")"
   ]
  }
 ],
 "metadata": {
  "kernelspec": {
   "display_name": "Python 3 (ipykernel)",
   "language": "python",
   "name": "python3"
  },
  "language_info": {
   "codemirror_mode": {
    "name": "ipython",
    "version": 3
   },
   "file_extension": ".py",
   "mimetype": "text/x-python",
   "name": "python",
   "nbconvert_exporter": "python",
   "pygments_lexer": "ipython3",
   "version": "3.8.10"
  },
  "vscode": {
   "interpreter": {
    "hash": "01c14519b4974e9683bf796b0f04b445c3210d47f2a006233f6cff14adf5564b"
   }
  }
 },
 "nbformat": 4,
 "nbformat_minor": 2
}
