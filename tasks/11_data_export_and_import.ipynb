{
 "cells": [
  {
   "cell_type": "markdown",
   "metadata": {},
   "source": [
    "# Экспорт и импорт данных"
   ]
  },
  {
   "cell_type": "markdown",
   "metadata": {},
   "source": [
    "1. Подготовить данные для построения модели.\n",
    "2. Сохранить готовые данные в: CSV, HDF5"
   ]
  },
  {
   "cell_type": "code",
   "execution_count": 1,
   "metadata": {},
   "outputs": [],
   "source": [
    "import pandas as pd\n",
    "import numpy as np\n",
    "\n",
    "from os import getcwd\n",
    "from os.path import getsize\n",
    "from pandas.tseries.holiday import USFederalHolidayCalendar as calendar\n",
    "from scipy.interpolate import interp1d\n",
    "from sklearn.model_selection import train_test_split\n",
    "from sklearn.linear_model import LinearRegression\n",
    "\n",
    "from core.reduce_mem_usage import reduce_mem_usage"
   ]
  },
  {
   "cell_type": "markdown",
   "metadata": {},
   "source": [
    "## Загрузка данных"
   ]
  },
  {
   "cell_type": "code",
   "execution_count": 2,
   "metadata": {},
   "outputs": [],
   "source": [
    "buildings = pd.read_csv(\"../data/buildings.csv\")\n",
    "weather = pd.read_csv(\"../data/weather.csv\")\n",
    "energy = pd.read_csv(\"../data/train.0.zip\")"
   ]
  },
  {
   "cell_type": "markdown",
   "metadata": {},
   "source": [
    "## Взять 20 зданий, объединить, оптимизировать"
   ]
  },
  {
   "cell_type": "code",
   "execution_count": 3,
   "metadata": {},
   "outputs": [],
   "source": [
    "weather = weather[weather[\"site_id\"] == 0]\n",
    "energy = energy[energy[\"building_id\"] < 20]\n",
    "energy = pd.merge(\n",
    "    left=energy,\n",
    "    right=buildings,\n",
    "    how=\"left\",\n",
    "    left_on=\"building_id\",\n",
    "    right_on=\"building_id\",\n",
    ")\n",
    "del buildings"
   ]
  },
  {
   "cell_type": "markdown",
   "metadata": {},
   "source": [
    "## Интерполяция значений"
   ]
  },
  {
   "cell_type": "code",
   "execution_count": 4,
   "metadata": {},
   "outputs": [],
   "source": [
    "weather[\"precip_depth_1_hr\"] = weather[\"precip_depth_1_hr\"].apply(lambda x: x if x> 0 else 0)\n",
    "interpolate_columns = [\n",
    "    \"air_temperature\",\n",
    "    \"dew_temperature\",\n",
    "    \"cloud_coverage\",\n",
    "    \"wind_speed\",\n",
    "    \"wind_direction\",\n",
    "    \"precip_depth_1_hr\",\n",
    "    \"sea_level_pressure\",\n",
    "]\n",
    "\n",
    "for col in interpolate_columns:\n",
    "    weather[col] = weather[col].interpolate(limit_direction=\"both\", kind=\"cubic\")"
   ]
  },
  {
   "cell_type": "markdown",
   "metadata": {},
   "source": [
    "## Обогащение данных: погода"
   ]
  },
  {
   "cell_type": "code",
   "execution_count": 5,
   "metadata": {},
   "outputs": [],
   "source": [
    "weather[\"air_temperature_diff_1\"] = weather[\"air_temperature\"].diff()\n",
    "weather.at[0, \"air_temperature_diff_1\"] = weather.at[1, \"air_temperature_diff_1\"]\n",
    "weather[\"air_temperature_diff_2\"] = weather[\"air_temperature_diff_1\"].diff()\n",
    "weather.at[0, \"air_temperature_diff_2\"] = weather.at[1, \"air_temperature_diff_2\"]"
   ]
  },
  {
   "cell_type": "markdown",
   "metadata": {},
   "source": [
    "## Объединение погодных данных"
   ]
  },
  {
   "cell_type": "code",
   "execution_count": 6,
   "metadata": {},
   "outputs": [
    {
     "name": "stdout",
     "output_type": "stream",
     "text": [
      "Потребление памяти меньше на - 12.4 Мб (минус 71.2%)\n",
      "<class 'pandas.core.frame.DataFrame'>\n",
      "RangeIndex: 175680 entries, 0 to 175679\n",
      "Data columns (total 13 columns):\n",
      " #   Column                  Non-Null Count   Dtype         \n",
      "---  ------                  --------------   -----         \n",
      " 0   timestamp               175680 non-null  datetime64[ns]\n",
      " 1   building_id             175680 non-null  int8          \n",
      " 2   meter_reading           175680 non-null  float16       \n",
      " 3   primary_use             175680 non-null  category      \n",
      " 4   air_temperature         175680 non-null  float16       \n",
      " 5   cloud_coverage          175680 non-null  float16       \n",
      " 6   dew_temperature         175680 non-null  float16       \n",
      " 7   precip_depth_1_hr       175680 non-null  float16       \n",
      " 8   sea_level_pressure      175680 non-null  float16       \n",
      " 9   wind_direction          175680 non-null  float16       \n",
      " 10  wind_speed              175680 non-null  float16       \n",
      " 11  air_temperature_diff_1  175680 non-null  float16       \n",
      " 12  air_temperature_diff_2  175680 non-null  float16       \n",
      "dtypes: category(1), datetime64[ns](1), float16(10), int8(1)\n",
      "memory usage: 5.0 MB\n",
      "None\n"
     ]
    }
   ],
   "source": [
    "energy = energy.set_index([\"timestamp\", \"site_id\"])\n",
    "weather = weather.set_index([\"timestamp\", \"site_id\"])\n",
    "energy = pd.merge(\n",
    "    left=energy,\n",
    "    right=weather,\n",
    "    how=\"left\",\n",
    "    left_index=True,\n",
    "    right_index=True,\n",
    ")\n",
    "energy.reset_index(inplace=True)\n",
    "energy = energy.drop(\n",
    "    columns=[\n",
    "        \"meter\",\n",
    "        \"site_id\",\n",
    "        \"year_built\",\n",
    "        \"square_feet\",\n",
    "        \"floor_count\",\n",
    "    ], \n",
    "    axis=1\n",
    ")\n",
    "del weather\n",
    "energy = reduce_mem_usage(energy)\n",
    "print(energy.info())"
   ]
  },
  {
   "cell_type": "markdown",
   "metadata": {},
   "source": [
    "## Обогащение данных: дата"
   ]
  },
  {
   "cell_type": "code",
   "execution_count": 7,
   "metadata": {},
   "outputs": [],
   "source": [
    "energy[\"hour\"] = energy[\"timestamp\"].dt.hour.astype(\"int8\")\n",
    "energy[\"weekday\"] = energy[\"timestamp\"].dt.weekday.astype(\"int8\")\n",
    "energy[\"week\"] = energy[\"timestamp\"].dt.isocalendar().week.astype(\"int8\")\n",
    "energy[\"month\"] = energy[\"timestamp\"].dt.month.astype(\"int8\")\n",
    "energy[\"date\"] = pd.to_datetime(energy[\"timestamp\"].dt.date)\n",
    "\n",
    "dates_range = pd.date_range(start=\"2015-12-31\", end=\"2017-01-01\")\n",
    "us_holidays = calendar().holidays(start=dates_range.min(), end=dates_range.max())\n",
    "energy[\"is_holiday\"] = energy[\"date\"].isin(us_holidays).astype(\"int8\")\n",
    "\n",
    "for weekday in range(0, 7):\n",
    "    energy[f\"is_wday {str(weekday)}\"] = energy[\"weekday\"].isin([weekday]).astype(\"int8\")\n",
    "for week in range(1, 54):\n",
    "    energy[f\"is_w {str(week)}\"] = energy[\"week\"].isin([week]).astype(\"int8\")\n",
    "for month in range(1, 13):\n",
    "    energy[f\"is_m {str(month)}\"] = energy[\"month\"].isin([month]).astype(\"int8\")"
   ]
  },
  {
   "cell_type": "markdown",
   "metadata": {},
   "source": [
    "## Логарифмирование данных"
   ]
  },
  {
   "cell_type": "code",
   "execution_count": 8,
   "metadata": {},
   "outputs": [],
   "source": [
    "energy[\"meter_reading_log\"] = np.log(energy[\"meter_reading\"] + 1)"
   ]
  },
  {
   "cell_type": "markdown",
   "metadata": {},
   "source": [
    "## Экспорт в CSV"
   ]
  },
  {
   "cell_type": "code",
   "execution_count": 9,
   "metadata": {},
   "outputs": [
    {
     "name": "stdout",
     "output_type": "stream",
     "text": [
      "<class 'pandas.core.frame.DataFrame'>\n",
      "RangeIndex: 175680 entries, 0 to 175679\n",
      "Data columns (total 92 columns):\n",
      " #   Column                  Non-Null Count   Dtype         \n",
      "---  ------                  --------------   -----         \n",
      " 0   timestamp               175680 non-null  datetime64[ns]\n",
      " 1   building_id             175680 non-null  int8          \n",
      " 2   meter_reading           175680 non-null  float16       \n",
      " 3   primary_use             175680 non-null  category      \n",
      " 4   air_temperature         175680 non-null  float16       \n",
      " 5   cloud_coverage          175680 non-null  float16       \n",
      " 6   dew_temperature         175680 non-null  float16       \n",
      " 7   precip_depth_1_hr       175680 non-null  float16       \n",
      " 8   sea_level_pressure      175680 non-null  float16       \n",
      " 9   wind_direction          175680 non-null  float16       \n",
      " 10  wind_speed              175680 non-null  float16       \n",
      " 11  air_temperature_diff_1  175680 non-null  float16       \n",
      " 12  air_temperature_diff_2  175680 non-null  float16       \n",
      " 13  hour                    175680 non-null  int8          \n",
      " 14  weekday                 175680 non-null  int8          \n",
      " 15  week                    175680 non-null  int8          \n",
      " 16  month                   175680 non-null  int8          \n",
      " 17  date                    175680 non-null  datetime64[ns]\n",
      " 18  is_holiday              175680 non-null  int8          \n",
      " 19  is_wday 0               175680 non-null  int8          \n",
      " 20  is_wday 1               175680 non-null  int8          \n",
      " 21  is_wday 2               175680 non-null  int8          \n",
      " 22  is_wday 3               175680 non-null  int8          \n",
      " 23  is_wday 4               175680 non-null  int8          \n",
      " 24  is_wday 5               175680 non-null  int8          \n",
      " 25  is_wday 6               175680 non-null  int8          \n",
      " 26  is_w 1                  175680 non-null  int8          \n",
      " 27  is_w 2                  175680 non-null  int8          \n",
      " 28  is_w 3                  175680 non-null  int8          \n",
      " 29  is_w 4                  175680 non-null  int8          \n",
      " 30  is_w 5                  175680 non-null  int8          \n",
      " 31  is_w 6                  175680 non-null  int8          \n",
      " 32  is_w 7                  175680 non-null  int8          \n",
      " 33  is_w 8                  175680 non-null  int8          \n",
      " 34  is_w 9                  175680 non-null  int8          \n",
      " 35  is_w 10                 175680 non-null  int8          \n",
      " 36  is_w 11                 175680 non-null  int8          \n",
      " 37  is_w 12                 175680 non-null  int8          \n",
      " 38  is_w 13                 175680 non-null  int8          \n",
      " 39  is_w 14                 175680 non-null  int8          \n",
      " 40  is_w 15                 175680 non-null  int8          \n",
      " 41  is_w 16                 175680 non-null  int8          \n",
      " 42  is_w 17                 175680 non-null  int8          \n",
      " 43  is_w 18                 175680 non-null  int8          \n",
      " 44  is_w 19                 175680 non-null  int8          \n",
      " 45  is_w 20                 175680 non-null  int8          \n",
      " 46  is_w 21                 175680 non-null  int8          \n",
      " 47  is_w 22                 175680 non-null  int8          \n",
      " 48  is_w 23                 175680 non-null  int8          \n",
      " 49  is_w 24                 175680 non-null  int8          \n",
      " 50  is_w 25                 175680 non-null  int8          \n",
      " 51  is_w 26                 175680 non-null  int8          \n",
      " 52  is_w 27                 175680 non-null  int8          \n",
      " 53  is_w 28                 175680 non-null  int8          \n",
      " 54  is_w 29                 175680 non-null  int8          \n",
      " 55  is_w 30                 175680 non-null  int8          \n",
      " 56  is_w 31                 175680 non-null  int8          \n",
      " 57  is_w 32                 175680 non-null  int8          \n",
      " 58  is_w 33                 175680 non-null  int8          \n",
      " 59  is_w 34                 175680 non-null  int8          \n",
      " 60  is_w 35                 175680 non-null  int8          \n",
      " 61  is_w 36                 175680 non-null  int8          \n",
      " 62  is_w 37                 175680 non-null  int8          \n",
      " 63  is_w 38                 175680 non-null  int8          \n",
      " 64  is_w 39                 175680 non-null  int8          \n",
      " 65  is_w 40                 175680 non-null  int8          \n",
      " 66  is_w 41                 175680 non-null  int8          \n",
      " 67  is_w 42                 175680 non-null  int8          \n",
      " 68  is_w 43                 175680 non-null  int8          \n",
      " 69  is_w 44                 175680 non-null  int8          \n",
      " 70  is_w 45                 175680 non-null  int8          \n",
      " 71  is_w 46                 175680 non-null  int8          \n",
      " 72  is_w 47                 175680 non-null  int8          \n",
      " 73  is_w 48                 175680 non-null  int8          \n",
      " 74  is_w 49                 175680 non-null  int8          \n",
      " 75  is_w 50                 175680 non-null  int8          \n",
      " 76  is_w 51                 175680 non-null  int8          \n",
      " 77  is_w 52                 175680 non-null  int8          \n",
      " 78  is_w 53                 175680 non-null  int8          \n",
      " 79  is_m 1                  175680 non-null  int8          \n",
      " 80  is_m 2                  175680 non-null  int8          \n",
      " 81  is_m 3                  175680 non-null  int8          \n",
      " 82  is_m 4                  175680 non-null  int8          \n",
      " 83  is_m 5                  175680 non-null  int8          \n",
      " 84  is_m 6                  175680 non-null  int8          \n",
      " 85  is_m 7                  175680 non-null  int8          \n",
      " 86  is_m 8                  175680 non-null  int8          \n",
      " 87  is_m 9                  175680 non-null  int8          \n",
      " 88  is_m 10                 175680 non-null  int8          \n",
      " 89  is_m 11                 175680 non-null  int8          \n",
      " 90  is_m 12                 175680 non-null  int8          \n",
      " 91  meter_reading_log       175680 non-null  float16       \n",
      "dtypes: category(1), datetime64[ns](2), float16(11), int8(78)\n",
      "memory usage: 19.6 MB\n",
      "None\n"
     ]
    }
   ],
   "source": [
    "print(energy.info())\n",
    "energy.to_csv(\"../data/out/energy.0-20.csv.gz\", index=False)"
   ]
  },
  {
   "cell_type": "code",
   "execution_count": 10,
   "metadata": {},
   "outputs": [
    {
     "name": "stdout",
     "output_type": "stream",
     "text": [
      "<class 'pandas.core.frame.DataFrame'>\n",
      "RangeIndex: 175680 entries, 0 to 175679\n",
      "Data columns (total 92 columns):\n",
      " #   Column                  Non-Null Count   Dtype  \n",
      "---  ------                  --------------   -----  \n",
      " 0   timestamp               175680 non-null  object \n",
      " 1   building_id             175680 non-null  int64  \n",
      " 2   meter_reading           175680 non-null  float64\n",
      " 3   primary_use             175680 non-null  object \n",
      " 4   air_temperature         175680 non-null  float64\n",
      " 5   cloud_coverage          175680 non-null  float64\n",
      " 6   dew_temperature         175680 non-null  float64\n",
      " 7   precip_depth_1_hr       175680 non-null  float64\n",
      " 8   sea_level_pressure      175680 non-null  float64\n",
      " 9   wind_direction          175680 non-null  float64\n",
      " 10  wind_speed              175680 non-null  float64\n",
      " 11  air_temperature_diff_1  175680 non-null  float64\n",
      " 12  air_temperature_diff_2  175680 non-null  float64\n",
      " 13  hour                    175680 non-null  int64  \n",
      " 14  weekday                 175680 non-null  int64  \n",
      " 15  week                    175680 non-null  int64  \n",
      " 16  month                   175680 non-null  int64  \n",
      " 17  date                    175680 non-null  object \n",
      " 18  is_holiday              175680 non-null  int64  \n",
      " 19  is_wday 0               175680 non-null  int64  \n",
      " 20  is_wday 1               175680 non-null  int64  \n",
      " 21  is_wday 2               175680 non-null  int64  \n",
      " 22  is_wday 3               175680 non-null  int64  \n",
      " 23  is_wday 4               175680 non-null  int64  \n",
      " 24  is_wday 5               175680 non-null  int64  \n",
      " 25  is_wday 6               175680 non-null  int64  \n",
      " 26  is_w 1                  175680 non-null  int64  \n",
      " 27  is_w 2                  175680 non-null  int64  \n",
      " 28  is_w 3                  175680 non-null  int64  \n",
      " 29  is_w 4                  175680 non-null  int64  \n",
      " 30  is_w 5                  175680 non-null  int64  \n",
      " 31  is_w 6                  175680 non-null  int64  \n",
      " 32  is_w 7                  175680 non-null  int64  \n",
      " 33  is_w 8                  175680 non-null  int64  \n",
      " 34  is_w 9                  175680 non-null  int64  \n",
      " 35  is_w 10                 175680 non-null  int64  \n",
      " 36  is_w 11                 175680 non-null  int64  \n",
      " 37  is_w 12                 175680 non-null  int64  \n",
      " 38  is_w 13                 175680 non-null  int64  \n",
      " 39  is_w 14                 175680 non-null  int64  \n",
      " 40  is_w 15                 175680 non-null  int64  \n",
      " 41  is_w 16                 175680 non-null  int64  \n",
      " 42  is_w 17                 175680 non-null  int64  \n",
      " 43  is_w 18                 175680 non-null  int64  \n",
      " 44  is_w 19                 175680 non-null  int64  \n",
      " 45  is_w 20                 175680 non-null  int64  \n",
      " 46  is_w 21                 175680 non-null  int64  \n",
      " 47  is_w 22                 175680 non-null  int64  \n",
      " 48  is_w 23                 175680 non-null  int64  \n",
      " 49  is_w 24                 175680 non-null  int64  \n",
      " 50  is_w 25                 175680 non-null  int64  \n",
      " 51  is_w 26                 175680 non-null  int64  \n",
      " 52  is_w 27                 175680 non-null  int64  \n",
      " 53  is_w 28                 175680 non-null  int64  \n",
      " 54  is_w 29                 175680 non-null  int64  \n",
      " 55  is_w 30                 175680 non-null  int64  \n",
      " 56  is_w 31                 175680 non-null  int64  \n",
      " 57  is_w 32                 175680 non-null  int64  \n",
      " 58  is_w 33                 175680 non-null  int64  \n",
      " 59  is_w 34                 175680 non-null  int64  \n",
      " 60  is_w 35                 175680 non-null  int64  \n",
      " 61  is_w 36                 175680 non-null  int64  \n",
      " 62  is_w 37                 175680 non-null  int64  \n",
      " 63  is_w 38                 175680 non-null  int64  \n",
      " 64  is_w 39                 175680 non-null  int64  \n",
      " 65  is_w 40                 175680 non-null  int64  \n",
      " 66  is_w 41                 175680 non-null  int64  \n",
      " 67  is_w 42                 175680 non-null  int64  \n",
      " 68  is_w 43                 175680 non-null  int64  \n",
      " 69  is_w 44                 175680 non-null  int64  \n",
      " 70  is_w 45                 175680 non-null  int64  \n",
      " 71  is_w 46                 175680 non-null  int64  \n",
      " 72  is_w 47                 175680 non-null  int64  \n",
      " 73  is_w 48                 175680 non-null  int64  \n",
      " 74  is_w 49                 175680 non-null  int64  \n",
      " 75  is_w 50                 175680 non-null  int64  \n",
      " 76  is_w 51                 175680 non-null  int64  \n",
      " 77  is_w 52                 175680 non-null  int64  \n",
      " 78  is_w 53                 175680 non-null  int64  \n",
      " 79  is_m 1                  175680 non-null  int64  \n",
      " 80  is_m 2                  175680 non-null  int64  \n",
      " 81  is_m 3                  175680 non-null  int64  \n",
      " 82  is_m 4                  175680 non-null  int64  \n",
      " 83  is_m 5                  175680 non-null  int64  \n",
      " 84  is_m 6                  175680 non-null  int64  \n",
      " 85  is_m 7                  175680 non-null  int64  \n",
      " 86  is_m 8                  175680 non-null  int64  \n",
      " 87  is_m 9                  175680 non-null  int64  \n",
      " 88  is_m 10                 175680 non-null  int64  \n",
      " 89  is_m 11                 175680 non-null  int64  \n",
      " 90  is_m 12                 175680 non-null  int64  \n",
      " 91  meter_reading_log       175680 non-null  float64\n",
      "dtypes: float64(11), int64(78), object(3)\n",
      "memory usage: 123.3+ MB\n",
      "None\n"
     ]
    }
   ],
   "source": [
    "energy = pd.read_csv(\"../data/out/energy.0-20.csv.gz\")\n",
    "print(energy.info())"
   ]
  },
  {
   "cell_type": "markdown",
   "metadata": {},
   "source": [
    "## Экспорт в HDF5"
   ]
  },
  {
   "cell_type": "code",
   "execution_count": 11,
   "metadata": {},
   "outputs": [
    {
     "name": "stdout",
     "output_type": "stream",
     "text": [
      "Потребление памяти меньше на - 104.7 Мб (минус 84.9%)\n"
     ]
    }
   ],
   "source": [
    "energy = reduce_mem_usage(energy)\n",
    "energy.to_hdf(\n",
    "    \"../data/out/energy.0-20.h5\",\n",
    "    key=\"energy\",\n",
    "    format=\"table\",\n",
    "    complib=\"zlib\",\n",
    "    complevel=9,\n",
    "    mode=\"w\"\n",
    ")\n"
   ]
  },
  {
   "cell_type": "code",
   "execution_count": 12,
   "metadata": {},
   "outputs": [
    {
     "name": "stdout",
     "output_type": "stream",
     "text": [
      "CSV: 1529687\n",
      "HDF5: 861608\n"
     ]
    }
   ],
   "source": [
    "print(f\"CSV: {getsize('../data/out/energy.0-20.csv.gz')}\")\n",
    "print(f\"HDF5: {getsize('../data/out/energy.0-20.h5')}\")"
   ]
  },
  {
   "cell_type": "code",
   "execution_count": 13,
   "metadata": {},
   "outputs": [
    {
     "name": "stdout",
     "output_type": "stream",
     "text": [
      "<class 'pandas.core.frame.DataFrame'>\n",
      "Int64Index: 175680 entries, 0 to 175679\n",
      "Data columns (total 92 columns):\n",
      " #   Column                  Non-Null Count   Dtype         \n",
      "---  ------                  --------------   -----         \n",
      " 0   timestamp               175680 non-null  datetime64[ns]\n",
      " 1   building_id             175680 non-null  int8          \n",
      " 2   meter_reading           175680 non-null  float16       \n",
      " 3   primary_use             175680 non-null  category      \n",
      " 4   air_temperature         175680 non-null  float16       \n",
      " 5   cloud_coverage          175680 non-null  float16       \n",
      " 6   dew_temperature         175680 non-null  float16       \n",
      " 7   precip_depth_1_hr       175680 non-null  float16       \n",
      " 8   sea_level_pressure      175680 non-null  float16       \n",
      " 9   wind_direction          175680 non-null  float16       \n",
      " 10  wind_speed              175680 non-null  float16       \n",
      " 11  air_temperature_diff_1  175680 non-null  float16       \n",
      " 12  air_temperature_diff_2  175680 non-null  float16       \n",
      " 13  hour                    175680 non-null  int8          \n",
      " 14  weekday                 175680 non-null  int8          \n",
      " 15  week                    175680 non-null  int8          \n",
      " 16  month                   175680 non-null  int8          \n",
      " 17  date                    175680 non-null  category      \n",
      " 18  is_holiday              175680 non-null  int8          \n",
      " 19  is_wday 0               175680 non-null  int8          \n",
      " 20  is_wday 1               175680 non-null  int8          \n",
      " 21  is_wday 2               175680 non-null  int8          \n",
      " 22  is_wday 3               175680 non-null  int8          \n",
      " 23  is_wday 4               175680 non-null  int8          \n",
      " 24  is_wday 5               175680 non-null  int8          \n",
      " 25  is_wday 6               175680 non-null  int8          \n",
      " 26  is_w 1                  175680 non-null  int8          \n",
      " 27  is_w 2                  175680 non-null  int8          \n",
      " 28  is_w 3                  175680 non-null  int8          \n",
      " 29  is_w 4                  175680 non-null  int8          \n",
      " 30  is_w 5                  175680 non-null  int8          \n",
      " 31  is_w 6                  175680 non-null  int8          \n",
      " 32  is_w 7                  175680 non-null  int8          \n",
      " 33  is_w 8                  175680 non-null  int8          \n",
      " 34  is_w 9                  175680 non-null  int8          \n",
      " 35  is_w 10                 175680 non-null  int8          \n",
      " 36  is_w 11                 175680 non-null  int8          \n",
      " 37  is_w 12                 175680 non-null  int8          \n",
      " 38  is_w 13                 175680 non-null  int8          \n",
      " 39  is_w 14                 175680 non-null  int8          \n",
      " 40  is_w 15                 175680 non-null  int8          \n",
      " 41  is_w 16                 175680 non-null  int8          \n",
      " 42  is_w 17                 175680 non-null  int8          \n",
      " 43  is_w 18                 175680 non-null  int8          \n",
      " 44  is_w 19                 175680 non-null  int8          \n",
      " 45  is_w 20                 175680 non-null  int8          \n",
      " 46  is_w 21                 175680 non-null  int8          \n",
      " 47  is_w 22                 175680 non-null  int8          \n",
      " 48  is_w 23                 175680 non-null  int8          \n",
      " 49  is_w 24                 175680 non-null  int8          \n",
      " 50  is_w 25                 175680 non-null  int8          \n",
      " 51  is_w 26                 175680 non-null  int8          \n",
      " 52  is_w 27                 175680 non-null  int8          \n",
      " 53  is_w 28                 175680 non-null  int8          \n",
      " 54  is_w 29                 175680 non-null  int8          \n",
      " 55  is_w 30                 175680 non-null  int8          \n",
      " 56  is_w 31                 175680 non-null  int8          \n",
      " 57  is_w 32                 175680 non-null  int8          \n",
      " 58  is_w 33                 175680 non-null  int8          \n",
      " 59  is_w 34                 175680 non-null  int8          \n",
      " 60  is_w 35                 175680 non-null  int8          \n",
      " 61  is_w 36                 175680 non-null  int8          \n",
      " 62  is_w 37                 175680 non-null  int8          \n",
      " 63  is_w 38                 175680 non-null  int8          \n",
      " 64  is_w 39                 175680 non-null  int8          \n",
      " 65  is_w 40                 175680 non-null  int8          \n",
      " 66  is_w 41                 175680 non-null  int8          \n",
      " 67  is_w 42                 175680 non-null  int8          \n",
      " 68  is_w 43                 175680 non-null  int8          \n",
      " 69  is_w 44                 175680 non-null  int8          \n",
      " 70  is_w 45                 175680 non-null  int8          \n",
      " 71  is_w 46                 175680 non-null  int8          \n",
      " 72  is_w 47                 175680 non-null  int8          \n",
      " 73  is_w 48                 175680 non-null  int8          \n",
      " 74  is_w 49                 175680 non-null  int8          \n",
      " 75  is_w 50                 175680 non-null  int8          \n",
      " 76  is_w 51                 175680 non-null  int8          \n",
      " 77  is_w 52                 175680 non-null  int8          \n",
      " 78  is_w 53                 175680 non-null  int8          \n",
      " 79  is_m 1                  175680 non-null  int8          \n",
      " 80  is_m 2                  175680 non-null  int8          \n",
      " 81  is_m 3                  175680 non-null  int8          \n",
      " 82  is_m 4                  175680 non-null  int8          \n",
      " 83  is_m 5                  175680 non-null  int8          \n",
      " 84  is_m 6                  175680 non-null  int8          \n",
      " 85  is_m 7                  175680 non-null  int8          \n",
      " 86  is_m 8                  175680 non-null  int8          \n",
      " 87  is_m 9                  175680 non-null  int8          \n",
      " 88  is_m 10                 175680 non-null  int8          \n",
      " 89  is_m 11                 175680 non-null  int8          \n",
      " 90  is_m 12                 175680 non-null  int8          \n",
      " 91  meter_reading_log       175680 non-null  float16       \n",
      "dtypes: category(2), datetime64[ns](1), float16(11), int8(78)\n",
      "memory usage: 19.9 MB\n",
      "None\n"
     ]
    }
   ],
   "source": [
    "energy = pd.read_hdf(\"../data/out/energy.0-20.h5\", \"energy\")\n",
    "print(energy.info())"
   ]
  },
  {
   "cell_type": "markdown",
   "metadata": {},
   "source": [
    "## Разделение данных"
   ]
  },
  {
   "cell_type": "code",
   "execution_count": 14,
   "metadata": {},
   "outputs": [
    {
     "name": "stdout",
     "output_type": "stream",
     "text": [
      "                 timestamp  building_id  meter_reading          primary_use  \\\n",
      "109797 2016-08-16 17:00:00           17      68.375000               Office   \n",
      "94205  2016-07-15 06:00:00            5      29.015625            Education   \n",
      "127591 2016-09-22 19:00:00           11     497.000000            Education   \n",
      "147412 2016-11-03 02:00:00           12     258.250000  Lodging/residential   \n",
      "128661 2016-09-25 01:00:00            1     136.250000            Education   \n",
      "\n",
      "        air_temperature  cloud_coverage  dew_temperature  precip_depth_1_hr  \\\n",
      "109797        30.000000        6.667969        24.000000               36.0   \n",
      "94205         25.000000        2.000000        22.796875                0.0   \n",
      "127591        31.703125        4.000000        21.703125                0.0   \n",
      "147412        21.703125        4.667969        17.796875                0.0   \n",
      "128661        26.703125        6.000000        23.296875                0.0   \n",
      "\n",
      "        sea_level_pressure  wind_direction  ...  is_m 4  is_m 5  is_m 6  \\\n",
      "109797              1021.0           300.0  ...       0       0       0   \n",
      "94205               1019.0           150.0  ...       0       0       0   \n",
      "127591              1014.0           240.0  ...       0       0       0   \n",
      "147412              1022.5            30.0  ...       0       0       0   \n",
      "128661              1017.0           120.0  ...       0       0       0   \n",
      "\n",
      "        is_m 7  is_m 8  is_m 9  is_m 10 is_m 11  is_m 12  meter_reading_log  \n",
      "109797       0       1       0        0       0        0           4.238281  \n",
      "94205        1       0       0        0       0        0           3.402344  \n",
      "127591       0       0       1        0       0        0           6.210938  \n",
      "147412       0       0       0        0       1        0           5.558594  \n",
      "128661       0       0       1        0       0        0           4.921875  \n",
      "\n",
      "[5 rows x 92 columns]\n"
     ]
    }
   ],
   "source": [
    "energy_train, energy_test = train_test_split(energy[energy[\"meter_reading\"] > 0], test_size=0.2)\n",
    "print(energy_train.head())"
   ]
  },
  {
   "cell_type": "code",
   "execution_count": 15,
   "metadata": {},
   "outputs": [],
   "source": [
    "pd.set_option(\"io.hdf.default_format\", \"table\")\n",
    "store = pd.HDFStore(\"../data/out/energy.0-20.split.h5\",\n",
    "                    complevel=9,\n",
    "                    complib=\"zlib\",\n",
    "                    mode=\"w\",\n",
    "                    )\n",
    "store[\"energy_train\"] = energy_train\n",
    "store[\"energy_test\"] = energy_test\n",
    "store.put(\"metadata\",\n",
    "          pd.Series([\"Набор обогащенных тестовых данных по 20 зданиям\"]))\n",
    "store.close()"
   ]
  },
  {
   "cell_type": "code",
   "execution_count": 16,
   "metadata": {},
   "outputs": [
    {
     "name": "stdout",
     "output_type": "stream",
     "text": [
      "HDF5: 3878532\n"
     ]
    }
   ],
   "source": [
    "print(f\"HDF5: {getsize('../data/out/energy.0-20.split.h5')}\")"
   ]
  },
  {
   "cell_type": "markdown",
   "metadata": {},
   "source": [
    "## Чтение из HDF5"
   ]
  },
  {
   "cell_type": "code",
   "execution_count": 17,
   "metadata": {},
   "outputs": [
    {
     "name": "stdout",
     "output_type": "stream",
     "text": [
      "Набор обогащенных тестовых данных по 20 зданиям\n",
      "                 timestamp  building_id  meter_reading          primary_use  \\\n",
      "109797 2016-08-16 17:00:00           17      68.375000               Office   \n",
      "94205  2016-07-15 06:00:00            5      29.015625            Education   \n",
      "127591 2016-09-22 19:00:00           11     497.000000            Education   \n",
      "147412 2016-11-03 02:00:00           12     258.250000  Lodging/residential   \n",
      "128661 2016-09-25 01:00:00            1     136.250000            Education   \n",
      "\n",
      "        air_temperature  cloud_coverage  dew_temperature  precip_depth_1_hr  \\\n",
      "109797        30.000000        6.667969        24.000000               36.0   \n",
      "94205         25.000000        2.000000        22.796875                0.0   \n",
      "127591        31.703125        4.000000        21.703125                0.0   \n",
      "147412        21.703125        4.667969        17.796875                0.0   \n",
      "128661        26.703125        6.000000        23.296875                0.0   \n",
      "\n",
      "        sea_level_pressure  wind_direction  ...  is_m 4  is_m 5  is_m 6  \\\n",
      "109797              1021.0           300.0  ...       0       0       0   \n",
      "94205               1019.0           150.0  ...       0       0       0   \n",
      "127591              1014.0           240.0  ...       0       0       0   \n",
      "147412              1022.5            30.0  ...       0       0       0   \n",
      "128661              1017.0           120.0  ...       0       0       0   \n",
      "\n",
      "        is_m 7  is_m 8  is_m 9  is_m 10 is_m 11  is_m 12  meter_reading_log  \n",
      "109797       0       1       0        0       0        0           4.238281  \n",
      "94205        1       0       0        0       0        0           3.402344  \n",
      "127591       0       0       1        0       0        0           6.210938  \n",
      "147412       0       0       0        0       1        0           5.558594  \n",
      "128661       0       0       1        0       0        0           4.921875  \n",
      "\n",
      "[5 rows x 92 columns]\n"
     ]
    }
   ],
   "source": [
    "store = pd.HDFStore(\"../data/out/energy.0-20.split.h5\")\n",
    "energy_test = store.get(\"energy_test\")[:]\n",
    "energy_train = store.get(\"energy_train\")[:]\n",
    "metadata = store.get(\"metadata\")[:]\n",
    "store.close()\n",
    "print(metadata[0])\n",
    "print(energy_train.head())"
   ]
  }
 ],
 "metadata": {
  "kernelspec": {
   "display_name": "Python 3.8.10 ('env_dsalgo')",
   "language": "python",
   "name": "python3"
  },
  "language_info": {
   "codemirror_mode": {
    "name": "ipython",
    "version": 3
   },
   "file_extension": ".py",
   "mimetype": "text/x-python",
   "name": "python",
   "nbconvert_exporter": "python",
   "pygments_lexer": "ipython3",
   "version": "3.8.10"
  },
  "orig_nbformat": 4,
  "vscode": {
   "interpreter": {
    "hash": "01c14519b4974e9683bf796b0f04b445c3210d47f2a006233f6cff14adf5564b"
   }
  }
 },
 "nbformat": 4,
 "nbformat_minor": 2
}
