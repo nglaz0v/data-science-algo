{
 "cells": [
  {
   "cell_type": "markdown",
   "metadata": {},
   "source": [
    "# Предобработка изображений"
   ]
  },
  {
   "cell_type": "markdown",
   "metadata": {},
   "source": [
    "## Подключение библиотек"
   ]
  },
  {
   "cell_type": "code",
   "execution_count": 1,
   "metadata": {},
   "outputs": [],
   "source": [
    "import pandas as pd\n",
    "import numpy as np\n",
    "from PIL import Image"
   ]
  },
  {
   "cell_type": "markdown",
   "metadata": {},
   "source": [
    "## Загрузка данных"
   ]
  },
  {
   "cell_type": "code",
   "execution_count": 2,
   "metadata": {},
   "outputs": [
    {
     "name": "stdout",
     "output_type": "stream",
     "text": [
      "          Image_Label                                      EncodedPixels\n",
      "0    0011165.jpg_Fish  264918 937 266318 937 267718 937 269118 937 27...\n",
      "1  0011165.jpg_Flower  1355565 1002 1356965 1002 1358365 1002 1359765...\n",
      "2  0011165.jpg_Gravel                                                NaN\n",
      "3   0011165.jpg_Sugar                                                NaN\n",
      "4    002be4f.jpg_Fish  233813 878 235213 878 236613 878 238010 881 23...\n"
     ]
    }
   ],
   "source": [
    "train = pd.read_csv(\"../data/clouds/train.csv.gz\")\n",
    "print(train.head())"
   ]
  },
  {
   "cell_type": "markdown",
   "metadata": {},
   "source": [
    "## Очистка данных"
   ]
  },
  {
   "cell_type": "code",
   "execution_count": 3,
   "metadata": {},
   "outputs": [
    {
     "name": "stdout",
     "output_type": "stream",
     "text": [
      "                                       EncodedPixels        Image   Label\n",
      "0  264918 937 266318 937 267718 937 269118 937 27...  0011165.jpg    Fish\n",
      "1  1355565 1002 1356965 1002 1358365 1002 1359765...  0011165.jpg  Flower\n",
      "2                                                NaN  0011165.jpg  Gravel\n",
      "3                                                NaN  0011165.jpg   Sugar\n",
      "4  233813 878 235213 878 236613 878 238010 881 23...  002be4f.jpg    Fish\n"
     ]
    }
   ],
   "source": [
    "train[\"Image\"] = train[\"Image_Label\"].str.split(\"_\").str[0]\n",
    "train[\"Label\"] = train[\"Image_Label\"].str.split(\"_\").str[1]\n",
    "train.drop(labels=[\"Image_Label\"], axis=1, inplace=True)\n",
    "print(train.head())"
   ]
  },
  {
   "cell_type": "code",
   "execution_count": 4,
   "metadata": {},
   "outputs": [
    {
     "name": "stdout",
     "output_type": "stream",
     "text": [
      "         Image                                               Fish  \\\n",
      "0  0011165.jpg  264918 937 266318 937 267718 937 269118 937 27...   \n",
      "1  002be4f.jpg  233813 878 235213 878 236613 878 238010 881 23...   \n",
      "2  0031ae9.jpg  3510 690 4910 690 6310 690 7710 690 9110 690 1...   \n",
      "3  0035239.jpg                                                NaN   \n",
      "4  003994e.jpg  2367966 18 2367985 2 2367993 8 2368002 62 2369...   \n",
      "\n",
      "                                              Flower  \\\n",
      "0  1355565 1002 1356965 1002 1358365 1002 1359765...   \n",
      "1  1339279 519 1340679 519 1342079 519 1343479 51...   \n",
      "2  2047 703 3447 703 4847 703 6247 703 7647 703 9...   \n",
      "3  100812 462 102212 462 103612 462 105012 462 10...   \n",
      "4                                                NaN   \n",
      "\n",
      "                                              Gravel  \\\n",
      "0                                                NaN   \n",
      "1                                                NaN   \n",
      "2                                                NaN   \n",
      "3  65400 380 66800 380 68200 380 69600 380 71000 ...   \n",
      "4  353317 416 354717 416 356117 416 357517 416 35...   \n",
      "\n",
      "                                               Sugar  \n",
      "0                                                NaN  \n",
      "1  67495 350 68895 350 70295 350 71695 350 73095 ...  \n",
      "2  658170 388 659570 388 660970 388 662370 388 66...  \n",
      "3                                                NaN  \n",
      "4  28011 489 29411 489 30811 489 32211 489 33611 ...  \n"
     ]
    }
   ],
   "source": [
    "data = pd.DataFrame({\"Image\": train[\"Image\"].unique()})\n",
    "for label in train[\"Label\"].unique():\n",
    "    data[label] = pd.Series(train[train[\"Label\"] == label][\"EncodedPixels\"].values)\n",
    "print(data.head())"
   ]
  },
  {
   "cell_type": "markdown",
   "metadata": {},
   "source": [
    "## Обработка изображений"
   ]
  },
  {
   "cell_type": "markdown",
   "metadata": {},
   "source": [
    "0011165.jpg имеет размер 525 * 350 = 183750 пикселей"
   ]
  },
  {
   "cell_type": "code",
   "execution_count": 5,
   "metadata": {},
   "outputs": [
    {
     "name": "stdout",
     "output_type": "stream",
     "text": [
      "   0       1       2       3       4       5       6       7       8       \\\n",
      "0       0       0       0       0       0       0       0       0       0   \n",
      "1      72      43      32      39      49      69      71      47      25   \n",
      "2      97      98     100     102     105     107     109     110     111   \n",
      "3      88      87      90      94      94      89      87      87      82   \n",
      "4      18      19      21      21      21      20      18      17      15   \n",
      "\n",
      "   9       ...  183740  183741  183742  183743  183744  183745  183746  \\\n",
      "0       0  ...      83      65      52      70      65     102     113   \n",
      "1      22  ...      99     113     110      59      27      38      58   \n",
      "2     112  ...       0       0       0       0       0       0       0   \n",
      "3      82  ...     182     188     170     150     146     166     164   \n",
      "4      16  ...      67      75     112     157     141     125     137   \n",
      "\n",
      "   183747  183748  183749  \n",
      "0     102      96     117  \n",
      "1      83     111     134  \n",
      "2       0       0       0  \n",
      "3     109      70      72  \n",
      "4      93      60      49  \n",
      "\n",
      "[5 rows x 183750 columns]\n"
     ]
    }
   ],
   "source": [
    "imgdata = np.array([np.zeros(183750, dtype=\"uint8\") for _ in range(len(data))])\n",
    "\n",
    "for i, img in enumerate(data[\"Image\"].unique()):\n",
    "    imgdata[i] = np.array(Image.open(\"../data/clouds/train_images_small/\" + img).convert(\"L\"),\n",
    "                          dtype=\"uint8\").reshape(1, -1)[0]\n",
    "imgdata = pd.DataFrame(imgdata)\n",
    "print(imgdata.head())"
   ]
  },
  {
   "cell_type": "code",
   "execution_count": 6,
   "metadata": {},
   "outputs": [
    {
     "name": "stdout",
     "output_type": "stream",
     "text": [
      "<bound method NDFrame.head of         0    1    2    3    4    5    6    7    8    9  ...  183745  183746  \\\n",
      "0       0    0    0    0    0    0    0    0    0    0  ...     102     113   \n",
      "1      72   43   32   39   49   69   71   47   25   22  ...      38      58   \n",
      "2      97   98  100  102  105  107  109  110  111  112  ...       0       0   \n",
      "3      88   87   90   94   94   89   87   87   82   82  ...     166     164   \n",
      "4      18   19   21   21   21   20   18   17   15   16  ...     125     137   \n",
      "...   ...  ...  ...  ...  ...  ...  ...  ...  ...  ...  ...     ...     ...   \n",
      "5541    9   35   51   47   50   61   55   37   24   63  ...     177     171   \n",
      "5542  184  182  182  187  197  209  218  224  224  227  ...      78      76   \n",
      "5543   23   38   59   75   69   43   33   46   35   15  ...     162     172   \n",
      "5544   37   14   47   45   44   42  111   50   35   40  ...     164     159   \n",
      "5545  125  125  125  125  125  125  125  125  126  124  ...     144     148   \n",
      "\n",
      "      183747  183748  183749        Image  \\\n",
      "0        102      96     117  0011165.jpg   \n",
      "1         83     111     134  002be4f.jpg   \n",
      "2          0       0       0  0031ae9.jpg   \n",
      "3        109      70      72  0035239.jpg   \n",
      "4         93      60      49  003994e.jpg   \n",
      "...      ...     ...     ...          ...   \n",
      "5541     159     157     166  ffcedf2.jpg   \n",
      "5542      62      86     147  ffd11b6.jpg   \n",
      "5543     156     100      47  ffd3dfb.jpg   \n",
      "5544     137     113     108  ffd6680.jpg   \n",
      "5545     174     182     163  ffea4f4.jpg   \n",
      "\n",
      "                                                   Fish  \\\n",
      "0     264918 937 266318 937 267718 937 269118 937 27...   \n",
      "1     233813 878 235213 878 236613 878 238010 881 23...   \n",
      "2     3510 690 4910 690 6310 690 7710 690 9110 690 1...   \n",
      "3                                                   NaN   \n",
      "4     2367966 18 2367985 2 2367993 8 2368002 62 2369...   \n",
      "...                                                 ...   \n",
      "5541  12631 4 12638 3 12649 16 13377 8 13395 13 1341...   \n",
      "5542                                                NaN   \n",
      "5543                                                NaN   \n",
      "5544                                                NaN   \n",
      "5545                                                NaN   \n",
      "\n",
      "                                                 Flower  \\\n",
      "0     1355565 1002 1356965 1002 1358365 1002 1359765...   \n",
      "1     1339279 519 1340679 519 1342079 519 1343479 51...   \n",
      "2     2047 703 3447 703 4847 703 6247 703 7647 703 9...   \n",
      "3     100812 462 102212 462 103612 462 105012 462 10...   \n",
      "4                                                   NaN   \n",
      "...                                                 ...   \n",
      "5541                                                NaN   \n",
      "5542  425921 5 425929 4 425945 2 425949 1 425952 1 4...   \n",
      "5543                                                NaN   \n",
      "5544  1509467 305 1509773 7 1509782 2 1510867 310 15...   \n",
      "5545  1194860 675 1196260 675 1197660 675 1199060 67...   \n",
      "\n",
      "                                                 Gravel  \\\n",
      "0                                                   NaN   \n",
      "1                                                   NaN   \n",
      "2                                                   NaN   \n",
      "3     65400 380 66800 380 68200 380 69600 380 71000 ...   \n",
      "4     353317 416 354717 416 356117 416 357517 416 35...   \n",
      "...                                                 ...   \n",
      "5541                                                NaN   \n",
      "5542                                                NaN   \n",
      "5543                                                NaN   \n",
      "5544  39728 823 41128 823 42528 823 43928 823 45328 ...   \n",
      "5545                                                NaN   \n",
      "\n",
      "                                                  Sugar  \n",
      "0                                                   NaN  \n",
      "1     67495 350 68895 350 70295 350 71695 350 73095 ...  \n",
      "2     658170 388 659570 388 660970 388 662370 388 66...  \n",
      "3                                                   NaN  \n",
      "4     28011 489 29411 489 30811 489 32211 489 33611 ...  \n",
      "...                                                 ...  \n",
      "5541                                                NaN  \n",
      "5542  1457936 458 1459336 458 1460736 458 1462136 45...  \n",
      "5543  12891 428 14291 428 15691 428 17091 428 18491 ...  \n",
      "5544                                                NaN  \n",
      "5545                                                NaN  \n",
      "\n",
      "[5546 rows x 183755 columns]>\n"
     ]
    }
   ],
   "source": [
    "for column in data.columns:\n",
    "    imgdata[column] = data[column]\n",
    "del data\n",
    "print(imgdata.head)"
   ]
  },
  {
   "cell_type": "markdown",
   "metadata": {},
   "source": [
    "## Сохранить данные в HDF5"
   ]
  },
  {
   "cell_type": "code",
   "execution_count": 7,
   "metadata": {},
   "outputs": [],
   "source": [
    "imgdata.to_hdf(\n",
    "    \"../data/out/clouds.data.h5\",\n",
    "    \"data\",\n",
    "    complib=\"zlib\",\n",
    "    complevel=9,\n",
    "    mode=\"w\",\n",
    ")"
   ]
  }
 ],
 "metadata": {
  "kernelspec": {
   "display_name": "Python 3.8.10 ('env_dsalgo')",
   "language": "python",
   "name": "python3"
  },
  "language_info": {
   "codemirror_mode": {
    "name": "ipython",
    "version": 3
   },
   "file_extension": ".py",
   "mimetype": "text/x-python",
   "name": "python",
   "nbconvert_exporter": "python",
   "pygments_lexer": "ipython3",
   "version": "3.8.10"
  },
  "orig_nbformat": 4,
  "vscode": {
   "interpreter": {
    "hash": "01c14519b4974e9683bf796b0f04b445c3210d47f2a006233f6cff14adf5564b"
   }
  }
 },
 "nbformat": 4,
 "nbformat_minor": 2
}
