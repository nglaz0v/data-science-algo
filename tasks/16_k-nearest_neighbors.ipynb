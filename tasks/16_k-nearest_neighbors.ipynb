{
 "cells": [
  {
   "cell_type": "markdown",
   "metadata": {},
   "source": [
    "# Метод ближайших соседей"
   ]
  },
  {
   "cell_type": "markdown",
   "metadata": {},
   "source": [
    "1. Разделить выборку 80/20\n",
    "2. Применить метод ближайших соседей для классификации скоринга.\n",
    "3. Проверить качество предсказания через каппа-метрику и матрицу неточностей."
   ]
  },
  {
   "cell_type": "markdown",
   "metadata": {},
   "source": [
    "## Подключить библиотеки"
   ]
  },
  {
   "cell_type": "code",
   "execution_count": 1,
   "metadata": {},
   "outputs": [],
   "source": [
    "import pandas as pd\n",
    "import numpy as np\n",
    "\n",
    "from sklearn.model_selection import train_test_split\n",
    "from sklearn.metrics import cohen_kappa_score, confusion_matrix\n",
    "from sklearn.neighbors import KNeighborsClassifier"
   ]
  },
  {
   "cell_type": "markdown",
   "metadata": {},
   "source": [
    "## Загрузка данных"
   ]
  },
  {
   "cell_type": "code",
   "execution_count": 2,
   "metadata": {},
   "outputs": [
    {
     "name": "stdout",
     "output_type": "stream",
     "text": [
      "<class 'pandas.core.frame.DataFrame'>\n",
      "RangeIndex: 59381 entries, 0 to 59380\n",
      "Columns: 128 entries, Id to Response\n",
      "dtypes: float64(18), int64(109), object(1)\n",
      "memory usage: 58.0+ MB\n",
      "None\n"
     ]
    }
   ],
   "source": [
    "data = pd.read_csv(\"../data/prudential/train.csv.gz\")\n",
    "print(data.info())"
   ]
  },
  {
   "cell_type": "markdown",
   "metadata": {},
   "source": [
    "## Разделить данные"
   ]
  },
  {
   "cell_type": "code",
   "execution_count": 3,
   "metadata": {},
   "outputs": [
    {
     "name": "stdout",
     "output_type": "stream",
     "text": [
      "          Id  Product_Info_1 Product_Info_2  Product_Info_3  Product_Info_4  \\\n",
      "54888  73099               1             D3              26        0.487179   \n",
      "43935  58426               1             A8              26        0.179487   \n",
      "22339  29750               1             D3              26        0.076923   \n",
      "23296  31062               2             D4              26        0.641026   \n",
      "12420  16513               1             D4              26        0.230769   \n",
      "\n",
      "       Product_Info_5  Product_Info_6  Product_Info_7   Ins_Age        Ht  \\\n",
      "54888               2               1               1  0.208955  0.818182   \n",
      "43935               2               3               1  0.641791  0.727273   \n",
      "22339               2               3               1  0.417910  0.600000   \n",
      "23296               2               3               1  0.208955  0.672727   \n",
      "12420               2               3               1  0.477612  0.727273   \n",
      "\n",
      "       ...  Medical_Keyword_40  Medical_Keyword_41  Medical_Keyword_42  \\\n",
      "54888  ...                   0                   0                   0   \n",
      "43935  ...                   0                   0                   0   \n",
      "22339  ...                   0                   0                   0   \n",
      "23296  ...                   0                   0                   0   \n",
      "12420  ...                   0                   0                   0   \n",
      "\n",
      "       Medical_Keyword_43  Medical_Keyword_44  Medical_Keyword_45  \\\n",
      "54888                   0                   0                   0   \n",
      "43935                   0                   0                   0   \n",
      "22339                   0                   0                   0   \n",
      "23296                   0                   0                   0   \n",
      "12420                   0                   0                   0   \n",
      "\n",
      "       Medical_Keyword_46  Medical_Keyword_47  Medical_Keyword_48  Response  \n",
      "54888                   0                   0                   0         6  \n",
      "43935                   0                   0                   0         4  \n",
      "22339                   0                   0                   0         4  \n",
      "23296                   0                   0                   0         7  \n",
      "12420                   0                   0                   0         8  \n",
      "\n",
      "[5 rows x 128 columns]\n"
     ]
    }
   ],
   "source": [
    "data_train, data_test = train_test_split(data, test_size=0.2)\n",
    "print(data_train.head())"
   ]
  },
  {
   "cell_type": "markdown",
   "metadata": {},
   "source": [
    "## Расчет модели kNN"
   ]
  },
  {
   "cell_type": "markdown",
   "metadata": {},
   "source": [
    "Вычислить не центры(кластеры) исходных групп, а расстояния до всех значений. Выбираем то значение, кот. превалирует у k ближайших соседей."
   ]
  },
  {
   "cell_type": "markdown",
   "metadata": {},
   "source": [
    "Для оценки качества возьмем **k** равным **10**, **100**, **1000**, **10000**"
   ]
  },
  {
   "cell_type": "code",
   "execution_count": 23,
   "metadata": {},
   "outputs": [],
   "source": [
    "columns = [\n",
    "    \"Wt\",\n",
    "    \"Ht\",\n",
    "    \"Ins_Age\",\n",
    "    \"BMI\",\n",
    "]\n",
    "max_nn = data_train.groupby(\"Response\").count()[\"Id\"].min()\n",
    "knn_10 = KNeighborsClassifier(n_neighbors=10)\n",
    "knn_100 = KNeighborsClassifier(n_neighbors=100)\n",
    "knn_1000 = KNeighborsClassifier(n_neighbors=1000)\n",
    "knn_10000 = KNeighborsClassifier(n_neighbors=10000)\n",
    "knn_max = KNeighborsClassifier(n_neighbors=max_nn)"
   ]
  },
  {
   "cell_type": "code",
   "execution_count": 24,
   "metadata": {},
   "outputs": [
    {
     "data": {
      "text/html": [
       "<style>#sk-container-id-1 {color: black;background-color: white;}#sk-container-id-1 pre{padding: 0;}#sk-container-id-1 div.sk-toggleable {background-color: white;}#sk-container-id-1 label.sk-toggleable__label {cursor: pointer;display: block;width: 100%;margin-bottom: 0;padding: 0.3em;box-sizing: border-box;text-align: center;}#sk-container-id-1 label.sk-toggleable__label-arrow:before {content: \"▸\";float: left;margin-right: 0.25em;color: #696969;}#sk-container-id-1 label.sk-toggleable__label-arrow:hover:before {color: black;}#sk-container-id-1 div.sk-estimator:hover label.sk-toggleable__label-arrow:before {color: black;}#sk-container-id-1 div.sk-toggleable__content {max-height: 0;max-width: 0;overflow: hidden;text-align: left;background-color: #f0f8ff;}#sk-container-id-1 div.sk-toggleable__content pre {margin: 0.2em;color: black;border-radius: 0.25em;background-color: #f0f8ff;}#sk-container-id-1 input.sk-toggleable__control:checked~div.sk-toggleable__content {max-height: 200px;max-width: 100%;overflow: auto;}#sk-container-id-1 input.sk-toggleable__control:checked~label.sk-toggleable__label-arrow:before {content: \"▾\";}#sk-container-id-1 div.sk-estimator input.sk-toggleable__control:checked~label.sk-toggleable__label {background-color: #d4ebff;}#sk-container-id-1 div.sk-label input.sk-toggleable__control:checked~label.sk-toggleable__label {background-color: #d4ebff;}#sk-container-id-1 input.sk-hidden--visually {border: 0;clip: rect(1px 1px 1px 1px);clip: rect(1px, 1px, 1px, 1px);height: 1px;margin: -1px;overflow: hidden;padding: 0;position: absolute;width: 1px;}#sk-container-id-1 div.sk-estimator {font-family: monospace;background-color: #f0f8ff;border: 1px dotted black;border-radius: 0.25em;box-sizing: border-box;margin-bottom: 0.5em;}#sk-container-id-1 div.sk-estimator:hover {background-color: #d4ebff;}#sk-container-id-1 div.sk-parallel-item::after {content: \"\";width: 100%;border-bottom: 1px solid gray;flex-grow: 1;}#sk-container-id-1 div.sk-label:hover label.sk-toggleable__label {background-color: #d4ebff;}#sk-container-id-1 div.sk-serial::before {content: \"\";position: absolute;border-left: 1px solid gray;box-sizing: border-box;top: 0;bottom: 0;left: 50%;z-index: 0;}#sk-container-id-1 div.sk-serial {display: flex;flex-direction: column;align-items: center;background-color: white;padding-right: 0.2em;padding-left: 0.2em;position: relative;}#sk-container-id-1 div.sk-item {position: relative;z-index: 1;}#sk-container-id-1 div.sk-parallel {display: flex;align-items: stretch;justify-content: center;background-color: white;position: relative;}#sk-container-id-1 div.sk-item::before, #sk-container-id-1 div.sk-parallel-item::before {content: \"\";position: absolute;border-left: 1px solid gray;box-sizing: border-box;top: 0;bottom: 0;left: 50%;z-index: -1;}#sk-container-id-1 div.sk-parallel-item {display: flex;flex-direction: column;z-index: 1;position: relative;background-color: white;}#sk-container-id-1 div.sk-parallel-item:first-child::after {align-self: flex-end;width: 50%;}#sk-container-id-1 div.sk-parallel-item:last-child::after {align-self: flex-start;width: 50%;}#sk-container-id-1 div.sk-parallel-item:only-child::after {width: 0;}#sk-container-id-1 div.sk-dashed-wrapped {border: 1px dashed gray;margin: 0 0.4em 0.5em 0.4em;box-sizing: border-box;padding-bottom: 0.4em;background-color: white;}#sk-container-id-1 div.sk-label label {font-family: monospace;font-weight: bold;display: inline-block;line-height: 1.2em;}#sk-container-id-1 div.sk-label-container {text-align: center;}#sk-container-id-1 div.sk-container {/* jupyter's `normalize.less` sets `[hidden] { display: none; }` but bootstrap.min.css set `[hidden] { display: none !important; }` so we also need the `!important` here to be able to override the default hidden behavior on the sphinx rendered scikit-learn.org. See: https://github.com/scikit-learn/scikit-learn/issues/21755 */display: inline-block !important;position: relative;}#sk-container-id-1 div.sk-text-repr-fallback {display: none;}</style><div id=\"sk-container-id-1\" class=\"sk-top-container\"><div class=\"sk-text-repr-fallback\"><pre>KNeighborsClassifier(n_neighbors=812)</pre><b>In a Jupyter environment, please rerun this cell to show the HTML representation or trust the notebook. <br />On GitHub, the HTML representation is unable to render, please try loading this page with nbviewer.org.</b></div><div class=\"sk-container\" hidden><div class=\"sk-item\"><div class=\"sk-estimator sk-toggleable\"><input class=\"sk-toggleable__control sk-hidden--visually\" id=\"sk-estimator-id-1\" type=\"checkbox\" checked><label for=\"sk-estimator-id-1\" class=\"sk-toggleable__label sk-toggleable__label-arrow\">KNeighborsClassifier</label><div class=\"sk-toggleable__content\"><pre>KNeighborsClassifier(n_neighbors=812)</pre></div></div></div></div></div>"
      ],
      "text/plain": [
       "KNeighborsClassifier(n_neighbors=812)"
      ]
     },
     "execution_count": 24,
     "metadata": {},
     "output_type": "execute_result"
    }
   ],
   "source": [
    "y = data_train[\"Response\"]\n",
    "x = pd.DataFrame(data_train, columns=columns)\n",
    "knn_10.fit(x, y)\n",
    "knn_100.fit(x, y)\n",
    "knn_1000.fit(x, y)\n",
    "knn_10000.fit(x, y)\n",
    "knn_max.fit(x, y)"
   ]
  },
  {
   "cell_type": "markdown",
   "metadata": {},
   "source": [
    "## Предсказание данных"
   ]
  },
  {
   "cell_type": "code",
   "execution_count": 26,
   "metadata": {},
   "outputs": [
    {
     "name": "stdout",
     "output_type": "stream",
     "text": [
      "          Id  Product_Info_1 Product_Info_2  Product_Info_3  Product_Info_4  \\\n",
      "57099  76069               1             D4              10        0.487179   \n",
      "49739  66270               1             A2              10        0.102564   \n",
      "24768  33008               1             D4              26        1.000000   \n",
      "25788  34345               1             A8              10        0.230769   \n",
      "25045  33360               1             D1              26        0.076923   \n",
      "5763    7669               1             D3              26        1.000000   \n",
      "3626    4835               1             D3              26        0.282051   \n",
      "12666  16822               1             D3              26        0.282051   \n",
      "47776  63631               1             D3              10        0.230769   \n",
      "47488  63229               1             D3              26        0.230769   \n",
      "16271  21654               1             D3              26        0.487179   \n",
      "12628  16774               1             B2              26        0.076923   \n",
      "4953    6594               1             D4              26        0.076923   \n",
      "29675  39463               1             D3              26        0.487179   \n",
      "3104    4138               1             D2              26        0.230769   \n",
      "5185    6893               1             D2              26        0.076923   \n",
      "27998  37279               1             D1              26        0.076923   \n",
      "45127  60012               1             D2              26        0.076923   \n",
      "19721  26287               1             D3              26        1.000000   \n",
      "49928  66510               1             D4              26        0.230769   \n",
      "\n",
      "       Product_Info_5  Product_Info_6  Product_Info_7   Ins_Age        Ht  \\\n",
      "57099               2               3               1  0.298507  0.600000   \n",
      "49739               2               3               1  0.552239  0.636364   \n",
      "24768               2               3               3  0.373134  0.800000   \n",
      "25788               2               1               1  0.626866  0.727273   \n",
      "25045               2               1               1  0.701493  0.763636   \n",
      "5763                2               3               1  0.597015  0.763636   \n",
      "3626                2               3               1  0.223881  0.727273   \n",
      "12666               2               3               1  0.522388  0.672727   \n",
      "47776               2               1               1  0.358209  0.618182   \n",
      "47488               2               3               1  0.537313  0.600000   \n",
      "16271               2               3               1  0.283582  0.709091   \n",
      "12628               2               1               1  0.328358  0.618182   \n",
      "4953                2               3               1  0.402985  0.745455   \n",
      "29675               2               3               1  0.373134  0.763636   \n",
      "3104                2               3               1  0.552239  0.690909   \n",
      "5185                2               3               1  0.761194  0.745455   \n",
      "27998               2               3               1  0.522388  0.690909   \n",
      "45127               2               3               1  0.656716  0.727273   \n",
      "19721               2               3               1  0.432836  0.745455   \n",
      "49928               2               3               1  0.298507  0.709091   \n",
      "\n",
      "       ...  Medical_Keyword_45  Medical_Keyword_46  Medical_Keyword_47  \\\n",
      "57099  ...                   0                   0                   0   \n",
      "49739  ...                   0                   0                   0   \n",
      "24768  ...                   0                   0                   0   \n",
      "25788  ...                   0                   0                   0   \n",
      "25045  ...                   0                   0                   0   \n",
      "5763   ...                   0                   0                   0   \n",
      "3626   ...                   0                   0                   0   \n",
      "12666  ...                   0                   0                   0   \n",
      "47776  ...                   0                   0                   0   \n",
      "47488  ...                   0                   0                   0   \n",
      "16271  ...                   0                   0                   0   \n",
      "12628  ...                   0                   0                   0   \n",
      "4953   ...                   0                   0                   0   \n",
      "29675  ...                   0                   0                   0   \n",
      "3104   ...                   0                   0                   0   \n",
      "5185   ...                   0                   0                   0   \n",
      "27998  ...                   0                   0                   0   \n",
      "45127  ...                   0                   0                   0   \n",
      "19721  ...                   0                   0                   0   \n",
      "49928  ...                   0                   0                   0   \n",
      "\n",
      "       Medical_Keyword_48  Response  target_10  target_100  target_1000  \\\n",
      "57099                   0         8          8           8            8   \n",
      "49739                   0         4          8           8            8   \n",
      "24768                   0         8          8           8            8   \n",
      "25788                   1         2          6           6            6   \n",
      "25045                   0         6          1           6            6   \n",
      "5763                    0         6          8           8            8   \n",
      "3626                    0         2          7           6            6   \n",
      "12666                   0         8          7           8            8   \n",
      "47776                   0         8          8           8            8   \n",
      "47488                   0         8          8           8            8   \n",
      "16271                   0         2          2           2            5   \n",
      "12628                   0         7          8           8            8   \n",
      "4953                    0         8          1           6            6   \n",
      "29675                   0         7          7           7            6   \n",
      "3104                    0         8          6           8            8   \n",
      "5185                    0         8          1           1            1   \n",
      "27998                   0         7          8           7            7   \n",
      "45127                   0         2          2           8            8   \n",
      "19721                   0         7          8           8            8   \n",
      "49928                   0         5          6           6            6   \n",
      "\n",
      "       target_10000  target_max  \n",
      "57099             8           8  \n",
      "49739             8           8  \n",
      "24768             8           8  \n",
      "25788             6           6  \n",
      "25045             6           6  \n",
      "5763              8           8  \n",
      "3626              8           6  \n",
      "12666             8           8  \n",
      "47776             8           8  \n",
      "47488             8           8  \n",
      "16271             6           5  \n",
      "12628             8           8  \n",
      "4953              6           6  \n",
      "29675             6           6  \n",
      "3104              8           8  \n",
      "5185              6           1  \n",
      "27998             8           7  \n",
      "45127             8           8  \n",
      "19721             8           8  \n",
      "49928             6           6  \n",
      "\n",
      "[20 rows x 133 columns]\n"
     ]
    }
   ],
   "source": [
    "x_test = pd.DataFrame(data_test, columns=columns)\n",
    "data_test[\"target_10\"] = knn_10.predict(x_test)\n",
    "data_test[\"target_100\"] = knn_100.predict(x_test)\n",
    "data_test[\"target_1000\"] = knn_1000.predict(x_test)\n",
    "data_test[\"target_10000\"] = knn_10000.predict(x_test)\n",
    "data_test[\"target_max\"] = knn_max.predict(x_test)\n",
    "print(data_test.head(20))"
   ]
  },
  {
   "cell_type": "markdown",
   "metadata": {},
   "source": [
    "## Оценка модели"
   ]
  },
  {
   "cell_type": "code",
   "execution_count": null,
   "metadata": {},
   "outputs": [
    {
     "name": "stdout",
     "output_type": "stream",
     "text": [
      "kNN, 10: 0.29959945217641726\n",
      "kNN, 100: 0.30075204263323985\n",
      "kNN, 1000: 0.2779927179447802\n",
      "kNN, 10000: 0.1477187823024796\n",
      "kNN, max: 0.28051452752111206\n"
     ]
    }
   ],
   "source": [
    "print(f'kNN, 10: {cohen_kappa_score(data_test[\"target_10\"], data_test[\"Response\"], weights=\"quadratic\")}')\n",
    "print(f'kNN, 100: {cohen_kappa_score(data_test[\"target_100\"], data_test[\"Response\"], weights=\"quadratic\")}')\n",
    "print(f'kNN, 1000: {cohen_kappa_score(data_test[\"target_1000\"], data_test[\"Response\"], weights=\"quadratic\")}')\n",
    "print(f'kNN, 10000: {cohen_kappa_score(data_test[\"target_10000\"], data_test[\"Response\"], weights=\"quadratic\")}')\n",
    "print(f'kNN, max: {cohen_kappa_score(data_test[\"target_max\"], data_test[\"Response\"], weights=\"quadratic\")}')"
   ]
  },
  {
   "cell_type": "markdown",
   "metadata": {},
   "source": [
    "## Матрицы неточностей"
   ]
  },
  {
   "cell_type": "code",
   "execution_count": 28,
   "metadata": {},
   "outputs": [
    {
     "name": "stdout",
     "output_type": "stream",
     "text": [
      "[[ 194  174   11    8  116  194  140  145]\n",
      " [ 154  273   12   10  162  138   96   93]\n",
      " [   0    2    1    0    3    1    0    1]\n",
      " [   2    1    0    0    1    2    2    6]\n",
      " [  92  132   39    3  354  156   34   37]\n",
      " [ 285  296   45   46  227  679  414  427]\n",
      " [ 132  121   23   37   66  285  243  265]\n",
      " [ 370  350   70  191  185  763  692 2876]]\n"
     ]
    }
   ],
   "source": [
    "print(confusion_matrix(data_test[\"target_10\"], data_test[\"Response\"]))"
   ]
  },
  {
   "cell_type": "code",
   "execution_count": 29,
   "metadata": {},
   "outputs": [
    {
     "name": "stdout",
     "output_type": "stream",
     "text": [
      "[[   0    0    0    0    0    0    0    0]\n",
      " [   0    0    0    0    0    0    0    0]\n",
      " [   0    0    0    0    0    0    0    0]\n",
      " [   0    0    0    0    0    0    0    0]\n",
      " [   0    0    0    0    0    0    0    0]\n",
      " [ 555  691   85   31  712  880  451  174]\n",
      " [   0    0    0    0    0    0    0    0]\n",
      " [ 674  658  116  264  402 1338 1170 3676]]\n"
     ]
    }
   ],
   "source": [
    "print(confusion_matrix(data_test[\"target_10000\"], data_test[\"Response\"]))"
   ]
  }
 ],
 "metadata": {
  "kernelspec": {
   "display_name": "Python 3 (ipykernel)",
   "language": "python",
   "name": "python3"
  },
  "language_info": {
   "codemirror_mode": {
    "name": "ipython",
    "version": 3
   },
   "file_extension": ".py",
   "mimetype": "text/x-python",
   "name": "python",
   "nbconvert_exporter": "python",
   "pygments_lexer": "ipython3",
   "version": "3.8.10"
  },
  "vscode": {
   "interpreter": {
    "hash": "01c14519b4974e9683bf796b0f04b445c3210d47f2a006233f6cff14adf5564b"
   }
  }
 },
 "nbformat": 4,
 "nbformat_minor": 2
}
