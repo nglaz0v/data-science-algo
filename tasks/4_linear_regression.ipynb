{
 "cells": [
  {
   "cell_type": "markdown",
   "metadata": {},
   "source": [
    "# Линейная регрессия\n",
    "Модель линейной регрессии энергопотребления здания, используя температуру воздуха и влажность."
   ]
  },
  {
   "cell_type": "code",
   "execution_count": 1,
   "metadata": {},
   "outputs": [],
   "source": [
    "%matplotlib inline\n",
    "\n",
    "import numpy as np\n",
    "import pandas as pd\n",
    "\n",
    "from sklearn.model_selection import train_test_split\n",
    "from sklearn.linear_model import LinearRegression"
   ]
  },
  {
   "cell_type": "markdown",
   "metadata": {},
   "source": [
    "## Загрузка, объединение, фильтрация данных"
   ]
  },
  {
   "cell_type": "code",
   "execution_count": 2,
   "metadata": {},
   "outputs": [
    {
     "name": "stdout",
     "output_type": "stream",
     "text": [
      "<class 'pandas.core.frame.DataFrame'>\n",
      "RangeIndex: 8784 entries, 0 to 8783\n",
      "Data columns (total 4 columns):\n",
      " #   Column         Non-Null Count  Dtype  \n",
      "---  ------         --------------  -----  \n",
      " 0   building_id    8784 non-null   int64  \n",
      " 1   meter          8784 non-null   int64  \n",
      " 2   timestamp      8784 non-null   object \n",
      " 3   meter_reading  8784 non-null   float64\n",
      "dtypes: float64(1), int64(2), object(1)\n",
      "memory usage: 274.6+ KB\n",
      "None\n"
     ]
    }
   ],
   "source": [
    "buildings= pd.read_csv(\"../data/buildings.csv\")\n",
    "weather = pd.read_csv(\"../data/weather.csv\")\n",
    "energy = pd.read_csv(\"../data/train.csv\")\n",
    "\n",
    "print(energy.info())"
   ]
  },
  {
   "cell_type": "code",
   "execution_count": 3,
   "metadata": {},
   "outputs": [
    {
     "name": "stdout",
     "output_type": "stream",
     "text": [
      "               timestamp  site_id  building_id  meter  meter_reading  \\\n",
      "704  2016-01-30 08:00:00        0            0      0        43.6839   \n",
      "725  2016-01-31 05:00:00        0            0      0        37.5408   \n",
      "737  2016-01-31 17:00:00        0            0      0        52.5571   \n",
      "2366 2016-04-08 14:00:00        0            0      0        59.3827   \n",
      "2923 2016-05-01 19:00:00        0            0      0       448.0000   \n",
      "\n",
      "     primary_use  square_feet  year_built  floor_count  air_temperature  \\\n",
      "704    Education         7432      2008.0          NaN              8.3   \n",
      "725    Education         7432      2008.0          NaN             12.8   \n",
      "737    Education         7432      2008.0          NaN             20.6   \n",
      "2366   Education         7432      2008.0          NaN             21.7   \n",
      "2923   Education         7432      2008.0          NaN             31.1   \n",
      "\n",
      "      cloud_coverage  dew_temperature  precip_depth_1_hr  sea_level_pressure  \\\n",
      "704              NaN              6.1                0.0              1019.0   \n",
      "725              NaN             10.0                0.0              1021.9   \n",
      "737              NaN             11.7                0.0              1020.9   \n",
      "2366             2.0             14.4                0.0              1015.1   \n",
      "2923             NaN             17.2                0.0              1016.1   \n",
      "\n",
      "      wind_direction  wind_speed  hour  \n",
      "704            220.0         2.1     8  \n",
      "725              0.0         0.0     5  \n",
      "737            110.0         1.5    17  \n",
      "2366           250.0         3.1    14  \n",
      "2923           100.0         4.1    19  \n"
     ]
    }
   ],
   "source": [
    "energy = pd.merge(left=energy, right=buildings, how=\"left\", left_on=\"building_id\", right_on=\"building_id\")\n",
    "energy.set_index([\"timestamp\", \"site_id\"], inplace=True)\n",
    "\n",
    "weather.set_index([\"timestamp\", \"site_id\"], inplace=True)\n",
    "energy = pd.merge(left=energy, right=weather, how=\"left\", left_index=True, right_index=True)\n",
    "energy.reset_index(inplace=True)\n",
    "\n",
    "energy = energy[energy[\"meter_reading\"]>0]\n",
    "energy[\"timestamp\"] = pd.to_datetime(energy[\"timestamp\"])\n",
    "energy[\"hour\"] = energy[\"timestamp\"].dt.hour\n",
    "\n",
    "print(energy.head())\n"
   ]
  },
  {
   "cell_type": "markdown",
   "metadata": {},
   "source": [
    "## Разделение данных на обучение и проверку"
   ]
  },
  {
   "cell_type": "code",
   "execution_count": 4,
   "metadata": {},
   "outputs": [
    {
     "name": "stdout",
     "output_type": "stream",
     "text": [
      "               timestamp  site_id  building_id  meter  meter_reading  \\\n",
      "4602 2016-07-10 18:00:00        0            0      0       288.7230   \n",
      "8298 2016-12-11 18:00:00        0            0      0        70.9863   \n",
      "6527 2016-09-28 23:00:00        0            0      0       246.4040   \n",
      "5025 2016-07-28 09:00:00        0            0      0       294.8660   \n",
      "3692 2016-06-02 20:00:00        0            0      0       240.2610   \n",
      "\n",
      "     primary_use  square_feet  year_built  floor_count  air_temperature  \\\n",
      "4602   Education         7432      2008.0          NaN             33.3   \n",
      "8298   Education         7432      2008.0          NaN             23.9   \n",
      "6527   Education         7432      2008.0          NaN             28.9   \n",
      "5025   Education         7432      2008.0          NaN             26.1   \n",
      "3692   Education         7432      2008.0          NaN             32.8   \n",
      "\n",
      "      cloud_coverage  dew_temperature  precip_depth_1_hr  sea_level_pressure  \\\n",
      "4602             4.0             22.8                0.0              1018.5   \n",
      "8298             6.0             16.1                0.0              1023.5   \n",
      "6527             NaN             20.6                0.0              1015.0   \n",
      "5025             0.0             23.9                0.0              1017.7   \n",
      "3692             4.0             19.4                0.0              1016.1   \n",
      "\n",
      "      wind_direction  wind_speed  hour  \n",
      "4602             NaN         1.5    18  \n",
      "8298            90.0         6.7    18  \n",
      "6527           290.0         2.6    23  \n",
      "5025             0.0         0.0     9  \n",
      "3692           110.0         2.6    20  \n"
     ]
    }
   ],
   "source": [
    "energy_train, energy_test = train_test_split(energy, test_size=0.2)\n",
    "print(energy_train.head())"
   ]
  },
  {
   "cell_type": "markdown",
   "metadata": {},
   "source": [
    "## Модель линейной регрессии и среднее\n",
    "\n",
    "$$\\normalsize meter\\_reading = A*air\\_temperature+B*air\\_temperature+C$$\n",
    "\n",
    "где:\n",
    "- $meter\\_reading - потребление\\; энергии\\; в\\; кВтч\\; (или\\; эквивалент);$\n",
    "- $air\\_temperature - температура\\; воздуха, С;$\n",
    "- $air\\_temperature - точка\\; росы\\; (влажность), С;$"
   ]
  },
  {
   "cell_type": "markdown",
   "metadata": {},
   "source": [
    "Дополнительно вычислим среднее по часам, что бы сравнить линейную регрессию с более простой моделью"
   ]
  },
  {
   "cell_type": "code",
   "execution_count": 5,
   "metadata": {},
   "outputs": [
    {
     "name": "stdout",
     "output_type": "stream",
     "text": [
      "[2.09903716 4.20813648] 103.00161358840381\n"
     ]
    }
   ],
   "source": [
    "energy_train_avg = energy_train.groupby(\"hour\")[\"meter_reading\"].mean()\n",
    "\n",
    "energy_train_lr = pd.DataFrame(\n",
    "    energy_train,\n",
    "    columns=[\"meter_reading\", \"air_temperature\", \"dew_temperature\"]\n",
    ")\n",
    "\n",
    "y = energy_train_lr[\"meter_reading\"]\n",
    "x = energy_train_lr.drop(labels=[\"meter_reading\"], axis=1)\n",
    "model = LinearRegression().fit(x,y)\n",
    "\n",
    "print(model.coef_, model.intercept_)"
   ]
  },
  {
   "cell_type": "markdown",
   "metadata": {},
   "source": [
    "## Оценка модели"
   ]
  },
  {
   "cell_type": "code",
   "execution_count": 6,
   "metadata": {},
   "outputs": [
    {
     "name": "stdout",
     "output_type": "stream",
     "text": [
      "Качество среднего: 0.2635860372856794\n",
      "Качество линейной регрессии: 0.2269520349692107\n"
     ]
    }
   ],
   "source": [
    "def calculate_model(x):\n",
    "    meter_reading_log = np.log(x.meter_reading + 1)\n",
    "    meter_reading_mean = np.log(energy_train_avg[x.hour] + 1)\n",
    "    meter_reading_lr = np.log(\n",
    "        1 + x.air_temperature * model.coef_[0] +\n",
    "        x.dew_temperature * model.coef_[1] +\n",
    "        model.intercept_\n",
    "    )\n",
    "    x[\"meter_reading_lr_q\"] = (meter_reading_log - meter_reading_lr)**2\n",
    "    x[\"meter_reading_mean_q\"] = (meter_reading_log - meter_reading_mean)**2\n",
    "\n",
    "    return x\n",
    "\n",
    "len_ = len(energy_test)\n",
    "energy_test = energy_test.apply(calculate_model, axis=1, result_type=\"expand\")\n",
    "energy_test_lr_rmsle = np.sqrt(energy_test[\"meter_reading_lr_q\"].sum() / len_)\n",
    "energy_test_mean_rmsle = np.sqrt(energy_test[\"meter_reading_mean_q\"].sum() / len_)\n",
    "\n",
    "print(f\"Качество среднего: {energy_test_mean_rmsle}\")\n",
    "print(f\"Качество линейной регрессии: {energy_test_lr_rmsle}\")"
   ]
  }
 ],
 "metadata": {
  "kernelspec": {
   "display_name": "Python 3 (ipykernel)",
   "language": "python",
   "name": "python3"
  },
  "language_info": {
   "codemirror_mode": {
    "name": "ipython",
    "version": 3
   },
   "file_extension": ".py",
   "mimetype": "text/x-python",
   "name": "python",
   "nbconvert_exporter": "python",
   "pygments_lexer": "ipython3",
   "version": "3.8.10"
  },
  "vscode": {
   "interpreter": {
    "hash": "01c14519b4974e9683bf796b0f04b445c3210d47f2a006233f6cff14adf5564b"
   }
  }
 },
 "nbformat": 4,
 "nbformat_minor": 2
}
